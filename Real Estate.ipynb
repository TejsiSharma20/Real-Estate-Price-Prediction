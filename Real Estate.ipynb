{
 "cells": [
  {
   "cell_type": "markdown",
   "id": "6aa5238a-69a7-4782-af3e-6a29077b3503",
   "metadata": {},
   "source": [
    "# 1. Project Introduction\n",
    "The real estate industry plays a significant role in economic growth and development. Accurate predictions of property values can assist stakeholders, such as real estate companies, buyers, and investors, in making informed decisions. This project aims to leverage machine learning techniques to predict median house values based on various factors, such as location, pollution levels, accessibility to highways, and demographic characteristics.\n",
    "\n",
    "\n",
    "## Problem Statement\n",
    "The real estate company seeks to improve its ability to predict house values accurately. The current prediction methods lack precision, leading to potential mispricing and loss of business opportunities. To address this issue, a robust machine learning model needs to be designed and deployed, capable of analyzing various features that impact house values.\n",
    "\n",
    "## Study Aim\n",
    "The study aims to:\n",
    "\n",
    "1. Explore the relationships between property features and house values.\n",
    "2. Develop and compare machine learning models for predicting house values.\n",
    "3. Identify the best-performing model based on predictive accuracy.\n",
    "4. Provide actionable insights that the company can utilize to refine its pricing strategies.\n",
    "\n",
    "## Model Selection\n",
    "To achieve accurate predictions, multiple machine learning models were tested, including Linear Regression, Decision Tree Regressor, and Random Forest Regressor. Among these, the Random Forest Regressor consistently delivered the best results due to its ability to handle complex patterns and reduce overfitting. It outperformed other models in terms of accuracy and reliability, making it the ideal choice for this project."
   ]
  },
  {
   "cell_type": "markdown",
   "id": "fa929ab1-c0a6-46ec-88f1-429cd974ebaf",
   "metadata": {},
   "source": [
    "# 2. Data Preparation\n",
    "\n",
    "\n",
    "### 2.1  Library Imports\n",
    "1. pandas: For handling and analyzing data in tabular format.\n",
    "2. numpy: For numerical operations and efficient computation.\n",
    "3. seaborn and matplotlib: For data visualization to uncover patterns and trends.\n",
    "4. %matplotlib inline: Ensures plots are displayed directly within the notebook.\n",
    "5. sklearn: Machine learning library (imported for future use)."
   ]
  },
  {
   "cell_type": "code",
   "execution_count": 1,
   "id": "4a294a77-e077-41a3-8f69-0cea95f2865e",
   "metadata": {},
   "outputs": [],
   "source": [
    "import pandas as pd \n",
    "import numpy as np\n",
    "import seaborn as sns\n",
    "import matplotlib.pyplot as plt\n",
    "%matplotlib inline\n",
    "import sklearn"
   ]
  },
  {
   "cell_type": "markdown",
   "id": "b0296447-ec41-4499-ac63-03a883760f82",
   "metadata": {},
   "source": [
    "### 2.2 Data Loading:\n",
    "\n",
    "The dataset (real_estate_dataset.csv) is read into a DataFrame named housing using pd.read_csv()."
   ]
  },
  {
   "cell_type": "code",
   "execution_count": 2,
   "id": "308b00c2-9048-402b-aba1-4fa2b5014f33",
   "metadata": {},
   "outputs": [],
   "source": [
    "housing = pd.read_csv('real_estate_dataset.csv')"
   ]
  },
  {
   "cell_type": "markdown",
   "id": "2d7f32ff-9c07-424e-9249-54805ef25bb4",
   "metadata": {},
   "source": [
    "### 2.3 Data Exploration:\n",
    "\n",
    "1. housing.head(5)--  Displays the first 5 rows of the dataset for a quick preview.\n",
    "2. housing.shape--   Returns the number of rows and columns to understand the dataset's size.\n",
    "3. housing.info()--   Provides an overview of the dataset, including column names, data types, and non-null counts."
   ]
  },
  {
   "cell_type": "code",
   "execution_count": 3,
   "id": "bc53855b-dba7-4b8d-946a-af40e9ff7317",
   "metadata": {},
   "outputs": [
    {
     "data": {
      "text/html": [
       "<div>\n",
       "<style scoped>\n",
       "    .dataframe tbody tr th:only-of-type {\n",
       "        vertical-align: middle;\n",
       "    }\n",
       "\n",
       "    .dataframe tbody tr th {\n",
       "        vertical-align: top;\n",
       "    }\n",
       "\n",
       "    .dataframe thead th {\n",
       "        text-align: right;\n",
       "    }\n",
       "</style>\n",
       "<table border=\"1\" class=\"dataframe\">\n",
       "  <thead>\n",
       "    <tr style=\"text-align: right;\">\n",
       "      <th></th>\n",
       "      <th>Area_Code</th>\n",
       "      <th>Land_Zoning</th>\n",
       "      <th>Business_Acreage</th>\n",
       "      <th>River_Proximity</th>\n",
       "      <th>Pollution_Level</th>\n",
       "      <th>Rooms_Avg</th>\n",
       "      <th>Old_Units_Rate</th>\n",
       "      <th>Distance_Centers</th>\n",
       "      <th>Highway_Access</th>\n",
       "      <th>Tax_Rate</th>\n",
       "      <th>Student_Teacher_Ratio</th>\n",
       "      <th>Demographic_Index</th>\n",
       "      <th>Low_Status_Pop</th>\n",
       "      <th>Median_House_Value</th>\n",
       "    </tr>\n",
       "  </thead>\n",
       "  <tbody>\n",
       "    <tr>\n",
       "      <th>0</th>\n",
       "      <td>0.06</td>\n",
       "      <td>17.94</td>\n",
       "      <td>2.52</td>\n",
       "      <td>-0.10</td>\n",
       "      <td>0.24</td>\n",
       "      <td>6.62</td>\n",
       "      <td>65.17</td>\n",
       "      <td>4.18</td>\n",
       "      <td>0.99</td>\n",
       "      <td>295.99</td>\n",
       "      <td>15.27</td>\n",
       "      <td>397.01</td>\n",
       "      <td>5.00</td>\n",
       "      <td>24.03</td>\n",
       "    </tr>\n",
       "    <tr>\n",
       "      <th>1</th>\n",
       "      <td>0.01</td>\n",
       "      <td>-0.09</td>\n",
       "      <td>7.00</td>\n",
       "      <td>0.19</td>\n",
       "      <td>0.49</td>\n",
       "      <td>6.33</td>\n",
       "      <td>78.92</td>\n",
       "      <td>4.86</td>\n",
       "      <td>2.04</td>\n",
       "      <td>241.97</td>\n",
       "      <td>17.90</td>\n",
       "      <td>396.97</td>\n",
       "      <td>9.19</td>\n",
       "      <td>21.42</td>\n",
       "    </tr>\n",
       "    <tr>\n",
       "      <th>2</th>\n",
       "      <td>0.09</td>\n",
       "      <td>0.00</td>\n",
       "      <td>7.24</td>\n",
       "      <td>0.12</td>\n",
       "      <td>0.65</td>\n",
       "      <td>7.24</td>\n",
       "      <td>61.00</td>\n",
       "      <td>5.10</td>\n",
       "      <td>1.93</td>\n",
       "      <td>241.90</td>\n",
       "      <td>17.77</td>\n",
       "      <td>392.86</td>\n",
       "      <td>4.20</td>\n",
       "      <td>34.67</td>\n",
       "    </tr>\n",
       "    <tr>\n",
       "      <th>3</th>\n",
       "      <td>0.18</td>\n",
       "      <td>-0.08</td>\n",
       "      <td>2.20</td>\n",
       "      <td>0.06</td>\n",
       "      <td>0.58</td>\n",
       "      <td>6.91</td>\n",
       "      <td>45.78</td>\n",
       "      <td>6.09</td>\n",
       "      <td>3.02</td>\n",
       "      <td>222.04</td>\n",
       "      <td>18.57</td>\n",
       "      <td>394.53</td>\n",
       "      <td>2.86</td>\n",
       "      <td>33.42</td>\n",
       "    </tr>\n",
       "    <tr>\n",
       "      <th>4</th>\n",
       "      <td>0.05</td>\n",
       "      <td>0.03</td>\n",
       "      <td>2.11</td>\n",
       "      <td>-0.02</td>\n",
       "      <td>0.48</td>\n",
       "      <td>7.11</td>\n",
       "      <td>54.26</td>\n",
       "      <td>6.13</td>\n",
       "      <td>3.05</td>\n",
       "      <td>221.95</td>\n",
       "      <td>18.77</td>\n",
       "      <td>396.90</td>\n",
       "      <td>5.20</td>\n",
       "      <td>36.17</td>\n",
       "    </tr>\n",
       "  </tbody>\n",
       "</table>\n",
       "</div>"
      ],
      "text/plain": [
       "   Area_Code  Land_Zoning  Business_Acreage  River_Proximity  Pollution_Level  \\\n",
       "0       0.06        17.94              2.52            -0.10             0.24   \n",
       "1       0.01        -0.09              7.00             0.19             0.49   \n",
       "2       0.09         0.00              7.24             0.12             0.65   \n",
       "3       0.18        -0.08              2.20             0.06             0.58   \n",
       "4       0.05         0.03              2.11            -0.02             0.48   \n",
       "\n",
       "   Rooms_Avg  Old_Units_Rate  Distance_Centers  Highway_Access  Tax_Rate  \\\n",
       "0       6.62           65.17              4.18            0.99    295.99   \n",
       "1       6.33           78.92              4.86            2.04    241.97   \n",
       "2       7.24           61.00              5.10            1.93    241.90   \n",
       "3       6.91           45.78              6.09            3.02    222.04   \n",
       "4       7.11           54.26              6.13            3.05    221.95   \n",
       "\n",
       "   Student_Teacher_Ratio  Demographic_Index  Low_Status_Pop  \\\n",
       "0                  15.27             397.01            5.00   \n",
       "1                  17.90             396.97            9.19   \n",
       "2                  17.77             392.86            4.20   \n",
       "3                  18.57             394.53            2.86   \n",
       "4                  18.77             396.90            5.20   \n",
       "\n",
       "   Median_House_Value  \n",
       "0               24.03  \n",
       "1               21.42  \n",
       "2               34.67  \n",
       "3               33.42  \n",
       "4               36.17  "
      ]
     },
     "execution_count": 3,
     "metadata": {},
     "output_type": "execute_result"
    }
   ],
   "source": [
    "housing.head(5)"
   ]
  },
  {
   "cell_type": "code",
   "execution_count": 4,
   "id": "20b6fe52-76dc-4c94-82de-431d030ce2d3",
   "metadata": {},
   "outputs": [
    {
     "data": {
      "text/plain": [
       "(506, 14)"
      ]
     },
     "execution_count": 4,
     "metadata": {},
     "output_type": "execute_result"
    }
   ],
   "source": [
    "housing.shape"
   ]
  },
  {
   "cell_type": "code",
   "execution_count": 5,
   "id": "aa5262e9-0dde-468e-9e48-bdc21b36648b",
   "metadata": {},
   "outputs": [
    {
     "name": "stdout",
     "output_type": "stream",
     "text": [
      "<class 'pandas.core.frame.DataFrame'>\n",
      "RangeIndex: 506 entries, 0 to 505\n",
      "Data columns (total 14 columns):\n",
      " #   Column                 Non-Null Count  Dtype  \n",
      "---  ------                 --------------  -----  \n",
      " 0   Area_Code              506 non-null    float64\n",
      " 1   Land_Zoning            506 non-null    float64\n",
      " 2   Business_Acreage       506 non-null    float64\n",
      " 3   River_Proximity        506 non-null    float64\n",
      " 4   Pollution_Level        506 non-null    float64\n",
      " 5   Rooms_Avg              501 non-null    float64\n",
      " 6   Old_Units_Rate         506 non-null    float64\n",
      " 7   Distance_Centers       506 non-null    float64\n",
      " 8   Highway_Access         506 non-null    float64\n",
      " 9   Tax_Rate               506 non-null    float64\n",
      " 10  Student_Teacher_Ratio  506 non-null    float64\n",
      " 11  Demographic_Index      506 non-null    float64\n",
      " 12  Low_Status_Pop         506 non-null    float64\n",
      " 13  Median_House_Value     506 non-null    float64\n",
      "dtypes: float64(14)\n",
      "memory usage: 55.5 KB\n"
     ]
    }
   ],
   "source": [
    "housing.info()"
   ]
  },
  {
   "cell_type": "markdown",
   "id": "0f8d4425-e35a-464e-b6ff-fa0cd0bd12dd",
   "metadata": {},
   "source": [
    "### 2.4 Column Renaming:\n",
    "\n",
    "The column name Low_Status_Pop is renamed to Low_Economic_Pop using rename() to improve clarity and align with the project's context."
   ]
  },
  {
   "cell_type": "code",
   "execution_count": 6,
   "id": "86228d72-32c1-4ae4-aee6-43e7f6b005fe",
   "metadata": {},
   "outputs": [],
   "source": [
    "housing.rename(columns = {'Low_Status_Pop':'Low_Economic_Pop'},inplace = True)"
   ]
  },
  {
   "cell_type": "markdown",
   "id": "4cecea6c-6f15-46bf-b599-a9a98f55b7ad",
   "metadata": {},
   "source": [
    "# 3. Data Imputation"
   ]
  },
  {
   "cell_type": "markdown",
   "id": "40cd19f6-babe-48ea-af95-42a604a05906",
   "metadata": {},
   "source": [
    "### 3.1 Checking for Missing Values\n",
    "\n",
    "housing.isnull().sum()- This checks for missing values in the dataset. We have identified that the Rooms_Avg column has 5 missing values, which need to be handled before analysis."
   ]
  },
  {
   "cell_type": "code",
   "execution_count": 7,
   "id": "a3642799-59ed-4223-80f1-23834c853b00",
   "metadata": {
    "scrolled": true
   },
   "outputs": [
    {
     "data": {
      "text/plain": [
       "Area_Code                0\n",
       "Land_Zoning              0\n",
       "Business_Acreage         0\n",
       "River_Proximity          0\n",
       "Pollution_Level          0\n",
       "Rooms_Avg                5\n",
       "Old_Units_Rate           0\n",
       "Distance_Centers         0\n",
       "Highway_Access           0\n",
       "Tax_Rate                 0\n",
       "Student_Teacher_Ratio    0\n",
       "Demographic_Index        0\n",
       "Low_Economic_Pop         0\n",
       "Median_House_Value       0\n",
       "dtype: int64"
      ]
     },
     "execution_count": 7,
     "metadata": {},
     "output_type": "execute_result"
    }
   ],
   "source": [
    "housing.isnull().sum()"
   ]
  },
  {
   "cell_type": "markdown",
   "id": "bb8e3271-1dd2-4aec-a0b9-2e89821be01c",
   "metadata": {},
   "source": [
    " ### 3.2 Imputation of Missing Values with Median\n",
    " \n",
    " We use SimpleImputer to replace missing values with the median of each column. The median is chosen to handle outliers effectively. "
   ]
  },
  {
   "cell_type": "code",
   "execution_count": 8,
   "id": "cc947d6d-ec2b-4cca-a44e-32d7357dc653",
   "metadata": {},
   "outputs": [
    {
     "data": {
      "text/html": [
       "<style>#sk-container-id-1 {\n",
       "  /* Definition of color scheme common for light and dark mode */\n",
       "  --sklearn-color-text: #000;\n",
       "  --sklearn-color-text-muted: #666;\n",
       "  --sklearn-color-line: gray;\n",
       "  /* Definition of color scheme for unfitted estimators */\n",
       "  --sklearn-color-unfitted-level-0: #fff5e6;\n",
       "  --sklearn-color-unfitted-level-1: #f6e4d2;\n",
       "  --sklearn-color-unfitted-level-2: #ffe0b3;\n",
       "  --sklearn-color-unfitted-level-3: chocolate;\n",
       "  /* Definition of color scheme for fitted estimators */\n",
       "  --sklearn-color-fitted-level-0: #f0f8ff;\n",
       "  --sklearn-color-fitted-level-1: #d4ebff;\n",
       "  --sklearn-color-fitted-level-2: #b3dbfd;\n",
       "  --sklearn-color-fitted-level-3: cornflowerblue;\n",
       "\n",
       "  /* Specific color for light theme */\n",
       "  --sklearn-color-text-on-default-background: var(--sg-text-color, var(--theme-code-foreground, var(--jp-content-font-color1, black)));\n",
       "  --sklearn-color-background: var(--sg-background-color, var(--theme-background, var(--jp-layout-color0, white)));\n",
       "  --sklearn-color-border-box: var(--sg-text-color, var(--theme-code-foreground, var(--jp-content-font-color1, black)));\n",
       "  --sklearn-color-icon: #696969;\n",
       "\n",
       "  @media (prefers-color-scheme: dark) {\n",
       "    /* Redefinition of color scheme for dark theme */\n",
       "    --sklearn-color-text-on-default-background: var(--sg-text-color, var(--theme-code-foreground, var(--jp-content-font-color1, white)));\n",
       "    --sklearn-color-background: var(--sg-background-color, var(--theme-background, var(--jp-layout-color0, #111)));\n",
       "    --sklearn-color-border-box: var(--sg-text-color, var(--theme-code-foreground, var(--jp-content-font-color1, white)));\n",
       "    --sklearn-color-icon: #878787;\n",
       "  }\n",
       "}\n",
       "\n",
       "#sk-container-id-1 {\n",
       "  color: var(--sklearn-color-text);\n",
       "}\n",
       "\n",
       "#sk-container-id-1 pre {\n",
       "  padding: 0;\n",
       "}\n",
       "\n",
       "#sk-container-id-1 input.sk-hidden--visually {\n",
       "  border: 0;\n",
       "  clip: rect(1px 1px 1px 1px);\n",
       "  clip: rect(1px, 1px, 1px, 1px);\n",
       "  height: 1px;\n",
       "  margin: -1px;\n",
       "  overflow: hidden;\n",
       "  padding: 0;\n",
       "  position: absolute;\n",
       "  width: 1px;\n",
       "}\n",
       "\n",
       "#sk-container-id-1 div.sk-dashed-wrapped {\n",
       "  border: 1px dashed var(--sklearn-color-line);\n",
       "  margin: 0 0.4em 0.5em 0.4em;\n",
       "  box-sizing: border-box;\n",
       "  padding-bottom: 0.4em;\n",
       "  background-color: var(--sklearn-color-background);\n",
       "}\n",
       "\n",
       "#sk-container-id-1 div.sk-container {\n",
       "  /* jupyter's `normalize.less` sets `[hidden] { display: none; }`\n",
       "     but bootstrap.min.css set `[hidden] { display: none !important; }`\n",
       "     so we also need the `!important` here to be able to override the\n",
       "     default hidden behavior on the sphinx rendered scikit-learn.org.\n",
       "     See: https://github.com/scikit-learn/scikit-learn/issues/21755 */\n",
       "  display: inline-block !important;\n",
       "  position: relative;\n",
       "}\n",
       "\n",
       "#sk-container-id-1 div.sk-text-repr-fallback {\n",
       "  display: none;\n",
       "}\n",
       "\n",
       "div.sk-parallel-item,\n",
       "div.sk-serial,\n",
       "div.sk-item {\n",
       "  /* draw centered vertical line to link estimators */\n",
       "  background-image: linear-gradient(var(--sklearn-color-text-on-default-background), var(--sklearn-color-text-on-default-background));\n",
       "  background-size: 2px 100%;\n",
       "  background-repeat: no-repeat;\n",
       "  background-position: center center;\n",
       "}\n",
       "\n",
       "/* Parallel-specific style estimator block */\n",
       "\n",
       "#sk-container-id-1 div.sk-parallel-item::after {\n",
       "  content: \"\";\n",
       "  width: 100%;\n",
       "  border-bottom: 2px solid var(--sklearn-color-text-on-default-background);\n",
       "  flex-grow: 1;\n",
       "}\n",
       "\n",
       "#sk-container-id-1 div.sk-parallel {\n",
       "  display: flex;\n",
       "  align-items: stretch;\n",
       "  justify-content: center;\n",
       "  background-color: var(--sklearn-color-background);\n",
       "  position: relative;\n",
       "}\n",
       "\n",
       "#sk-container-id-1 div.sk-parallel-item {\n",
       "  display: flex;\n",
       "  flex-direction: column;\n",
       "}\n",
       "\n",
       "#sk-container-id-1 div.sk-parallel-item:first-child::after {\n",
       "  align-self: flex-end;\n",
       "  width: 50%;\n",
       "}\n",
       "\n",
       "#sk-container-id-1 div.sk-parallel-item:last-child::after {\n",
       "  align-self: flex-start;\n",
       "  width: 50%;\n",
       "}\n",
       "\n",
       "#sk-container-id-1 div.sk-parallel-item:only-child::after {\n",
       "  width: 0;\n",
       "}\n",
       "\n",
       "/* Serial-specific style estimator block */\n",
       "\n",
       "#sk-container-id-1 div.sk-serial {\n",
       "  display: flex;\n",
       "  flex-direction: column;\n",
       "  align-items: center;\n",
       "  background-color: var(--sklearn-color-background);\n",
       "  padding-right: 1em;\n",
       "  padding-left: 1em;\n",
       "}\n",
       "\n",
       "\n",
       "/* Toggleable style: style used for estimator/Pipeline/ColumnTransformer box that is\n",
       "clickable and can be expanded/collapsed.\n",
       "- Pipeline and ColumnTransformer use this feature and define the default style\n",
       "- Estimators will overwrite some part of the style using the `sk-estimator` class\n",
       "*/\n",
       "\n",
       "/* Pipeline and ColumnTransformer style (default) */\n",
       "\n",
       "#sk-container-id-1 div.sk-toggleable {\n",
       "  /* Default theme specific background. It is overwritten whether we have a\n",
       "  specific estimator or a Pipeline/ColumnTransformer */\n",
       "  background-color: var(--sklearn-color-background);\n",
       "}\n",
       "\n",
       "/* Toggleable label */\n",
       "#sk-container-id-1 label.sk-toggleable__label {\n",
       "  cursor: pointer;\n",
       "  display: flex;\n",
       "  width: 100%;\n",
       "  margin-bottom: 0;\n",
       "  padding: 0.5em;\n",
       "  box-sizing: border-box;\n",
       "  text-align: center;\n",
       "  align-items: start;\n",
       "  justify-content: space-between;\n",
       "  gap: 0.5em;\n",
       "}\n",
       "\n",
       "#sk-container-id-1 label.sk-toggleable__label .caption {\n",
       "  font-size: 0.6rem;\n",
       "  font-weight: lighter;\n",
       "  color: var(--sklearn-color-text-muted);\n",
       "}\n",
       "\n",
       "#sk-container-id-1 label.sk-toggleable__label-arrow:before {\n",
       "  /* Arrow on the left of the label */\n",
       "  content: \"▸\";\n",
       "  float: left;\n",
       "  margin-right: 0.25em;\n",
       "  color: var(--sklearn-color-icon);\n",
       "}\n",
       "\n",
       "#sk-container-id-1 label.sk-toggleable__label-arrow:hover:before {\n",
       "  color: var(--sklearn-color-text);\n",
       "}\n",
       "\n",
       "/* Toggleable content - dropdown */\n",
       "\n",
       "#sk-container-id-1 div.sk-toggleable__content {\n",
       "  max-height: 0;\n",
       "  max-width: 0;\n",
       "  overflow: hidden;\n",
       "  text-align: left;\n",
       "  /* unfitted */\n",
       "  background-color: var(--sklearn-color-unfitted-level-0);\n",
       "}\n",
       "\n",
       "#sk-container-id-1 div.sk-toggleable__content.fitted {\n",
       "  /* fitted */\n",
       "  background-color: var(--sklearn-color-fitted-level-0);\n",
       "}\n",
       "\n",
       "#sk-container-id-1 div.sk-toggleable__content pre {\n",
       "  margin: 0.2em;\n",
       "  border-radius: 0.25em;\n",
       "  color: var(--sklearn-color-text);\n",
       "  /* unfitted */\n",
       "  background-color: var(--sklearn-color-unfitted-level-0);\n",
       "}\n",
       "\n",
       "#sk-container-id-1 div.sk-toggleable__content.fitted pre {\n",
       "  /* unfitted */\n",
       "  background-color: var(--sklearn-color-fitted-level-0);\n",
       "}\n",
       "\n",
       "#sk-container-id-1 input.sk-toggleable__control:checked~div.sk-toggleable__content {\n",
       "  /* Expand drop-down */\n",
       "  max-height: 200px;\n",
       "  max-width: 100%;\n",
       "  overflow: auto;\n",
       "}\n",
       "\n",
       "#sk-container-id-1 input.sk-toggleable__control:checked~label.sk-toggleable__label-arrow:before {\n",
       "  content: \"▾\";\n",
       "}\n",
       "\n",
       "/* Pipeline/ColumnTransformer-specific style */\n",
       "\n",
       "#sk-container-id-1 div.sk-label input.sk-toggleable__control:checked~label.sk-toggleable__label {\n",
       "  color: var(--sklearn-color-text);\n",
       "  background-color: var(--sklearn-color-unfitted-level-2);\n",
       "}\n",
       "\n",
       "#sk-container-id-1 div.sk-label.fitted input.sk-toggleable__control:checked~label.sk-toggleable__label {\n",
       "  background-color: var(--sklearn-color-fitted-level-2);\n",
       "}\n",
       "\n",
       "/* Estimator-specific style */\n",
       "\n",
       "/* Colorize estimator box */\n",
       "#sk-container-id-1 div.sk-estimator input.sk-toggleable__control:checked~label.sk-toggleable__label {\n",
       "  /* unfitted */\n",
       "  background-color: var(--sklearn-color-unfitted-level-2);\n",
       "}\n",
       "\n",
       "#sk-container-id-1 div.sk-estimator.fitted input.sk-toggleable__control:checked~label.sk-toggleable__label {\n",
       "  /* fitted */\n",
       "  background-color: var(--sklearn-color-fitted-level-2);\n",
       "}\n",
       "\n",
       "#sk-container-id-1 div.sk-label label.sk-toggleable__label,\n",
       "#sk-container-id-1 div.sk-label label {\n",
       "  /* The background is the default theme color */\n",
       "  color: var(--sklearn-color-text-on-default-background);\n",
       "}\n",
       "\n",
       "/* On hover, darken the color of the background */\n",
       "#sk-container-id-1 div.sk-label:hover label.sk-toggleable__label {\n",
       "  color: var(--sklearn-color-text);\n",
       "  background-color: var(--sklearn-color-unfitted-level-2);\n",
       "}\n",
       "\n",
       "/* Label box, darken color on hover, fitted */\n",
       "#sk-container-id-1 div.sk-label.fitted:hover label.sk-toggleable__label.fitted {\n",
       "  color: var(--sklearn-color-text);\n",
       "  background-color: var(--sklearn-color-fitted-level-2);\n",
       "}\n",
       "\n",
       "/* Estimator label */\n",
       "\n",
       "#sk-container-id-1 div.sk-label label {\n",
       "  font-family: monospace;\n",
       "  font-weight: bold;\n",
       "  display: inline-block;\n",
       "  line-height: 1.2em;\n",
       "}\n",
       "\n",
       "#sk-container-id-1 div.sk-label-container {\n",
       "  text-align: center;\n",
       "}\n",
       "\n",
       "/* Estimator-specific */\n",
       "#sk-container-id-1 div.sk-estimator {\n",
       "  font-family: monospace;\n",
       "  border: 1px dotted var(--sklearn-color-border-box);\n",
       "  border-radius: 0.25em;\n",
       "  box-sizing: border-box;\n",
       "  margin-bottom: 0.5em;\n",
       "  /* unfitted */\n",
       "  background-color: var(--sklearn-color-unfitted-level-0);\n",
       "}\n",
       "\n",
       "#sk-container-id-1 div.sk-estimator.fitted {\n",
       "  /* fitted */\n",
       "  background-color: var(--sklearn-color-fitted-level-0);\n",
       "}\n",
       "\n",
       "/* on hover */\n",
       "#sk-container-id-1 div.sk-estimator:hover {\n",
       "  /* unfitted */\n",
       "  background-color: var(--sklearn-color-unfitted-level-2);\n",
       "}\n",
       "\n",
       "#sk-container-id-1 div.sk-estimator.fitted:hover {\n",
       "  /* fitted */\n",
       "  background-color: var(--sklearn-color-fitted-level-2);\n",
       "}\n",
       "\n",
       "/* Specification for estimator info (e.g. \"i\" and \"?\") */\n",
       "\n",
       "/* Common style for \"i\" and \"?\" */\n",
       "\n",
       ".sk-estimator-doc-link,\n",
       "a:link.sk-estimator-doc-link,\n",
       "a:visited.sk-estimator-doc-link {\n",
       "  float: right;\n",
       "  font-size: smaller;\n",
       "  line-height: 1em;\n",
       "  font-family: monospace;\n",
       "  background-color: var(--sklearn-color-background);\n",
       "  border-radius: 1em;\n",
       "  height: 1em;\n",
       "  width: 1em;\n",
       "  text-decoration: none !important;\n",
       "  margin-left: 0.5em;\n",
       "  text-align: center;\n",
       "  /* unfitted */\n",
       "  border: var(--sklearn-color-unfitted-level-1) 1pt solid;\n",
       "  color: var(--sklearn-color-unfitted-level-1);\n",
       "}\n",
       "\n",
       ".sk-estimator-doc-link.fitted,\n",
       "a:link.sk-estimator-doc-link.fitted,\n",
       "a:visited.sk-estimator-doc-link.fitted {\n",
       "  /* fitted */\n",
       "  border: var(--sklearn-color-fitted-level-1) 1pt solid;\n",
       "  color: var(--sklearn-color-fitted-level-1);\n",
       "}\n",
       "\n",
       "/* On hover */\n",
       "div.sk-estimator:hover .sk-estimator-doc-link:hover,\n",
       ".sk-estimator-doc-link:hover,\n",
       "div.sk-label-container:hover .sk-estimator-doc-link:hover,\n",
       ".sk-estimator-doc-link:hover {\n",
       "  /* unfitted */\n",
       "  background-color: var(--sklearn-color-unfitted-level-3);\n",
       "  color: var(--sklearn-color-background);\n",
       "  text-decoration: none;\n",
       "}\n",
       "\n",
       "div.sk-estimator.fitted:hover .sk-estimator-doc-link.fitted:hover,\n",
       ".sk-estimator-doc-link.fitted:hover,\n",
       "div.sk-label-container:hover .sk-estimator-doc-link.fitted:hover,\n",
       ".sk-estimator-doc-link.fitted:hover {\n",
       "  /* fitted */\n",
       "  background-color: var(--sklearn-color-fitted-level-3);\n",
       "  color: var(--sklearn-color-background);\n",
       "  text-decoration: none;\n",
       "}\n",
       "\n",
       "/* Span, style for the box shown on hovering the info icon */\n",
       ".sk-estimator-doc-link span {\n",
       "  display: none;\n",
       "  z-index: 9999;\n",
       "  position: relative;\n",
       "  font-weight: normal;\n",
       "  right: .2ex;\n",
       "  padding: .5ex;\n",
       "  margin: .5ex;\n",
       "  width: min-content;\n",
       "  min-width: 20ex;\n",
       "  max-width: 50ex;\n",
       "  color: var(--sklearn-color-text);\n",
       "  box-shadow: 2pt 2pt 4pt #999;\n",
       "  /* unfitted */\n",
       "  background: var(--sklearn-color-unfitted-level-0);\n",
       "  border: .5pt solid var(--sklearn-color-unfitted-level-3);\n",
       "}\n",
       "\n",
       ".sk-estimator-doc-link.fitted span {\n",
       "  /* fitted */\n",
       "  background: var(--sklearn-color-fitted-level-0);\n",
       "  border: var(--sklearn-color-fitted-level-3);\n",
       "}\n",
       "\n",
       ".sk-estimator-doc-link:hover span {\n",
       "  display: block;\n",
       "}\n",
       "\n",
       "/* \"?\"-specific style due to the `<a>` HTML tag */\n",
       "\n",
       "#sk-container-id-1 a.estimator_doc_link {\n",
       "  float: right;\n",
       "  font-size: 1rem;\n",
       "  line-height: 1em;\n",
       "  font-family: monospace;\n",
       "  background-color: var(--sklearn-color-background);\n",
       "  border-radius: 1rem;\n",
       "  height: 1rem;\n",
       "  width: 1rem;\n",
       "  text-decoration: none;\n",
       "  /* unfitted */\n",
       "  color: var(--sklearn-color-unfitted-level-1);\n",
       "  border: var(--sklearn-color-unfitted-level-1) 1pt solid;\n",
       "}\n",
       "\n",
       "#sk-container-id-1 a.estimator_doc_link.fitted {\n",
       "  /* fitted */\n",
       "  border: var(--sklearn-color-fitted-level-1) 1pt solid;\n",
       "  color: var(--sklearn-color-fitted-level-1);\n",
       "}\n",
       "\n",
       "/* On hover */\n",
       "#sk-container-id-1 a.estimator_doc_link:hover {\n",
       "  /* unfitted */\n",
       "  background-color: var(--sklearn-color-unfitted-level-3);\n",
       "  color: var(--sklearn-color-background);\n",
       "  text-decoration: none;\n",
       "}\n",
       "\n",
       "#sk-container-id-1 a.estimator_doc_link.fitted:hover {\n",
       "  /* fitted */\n",
       "  background-color: var(--sklearn-color-fitted-level-3);\n",
       "}\n",
       "</style><div id=\"sk-container-id-1\" class=\"sk-top-container\"><div class=\"sk-text-repr-fallback\"><pre>SimpleImputer(strategy=&#x27;median&#x27;)</pre><b>In a Jupyter environment, please rerun this cell to show the HTML representation or trust the notebook. <br />On GitHub, the HTML representation is unable to render, please try loading this page with nbviewer.org.</b></div><div class=\"sk-container\" hidden><div class=\"sk-item\"><div class=\"sk-estimator fitted sk-toggleable\"><input class=\"sk-toggleable__control sk-hidden--visually\" id=\"sk-estimator-id-1\" type=\"checkbox\" checked><label for=\"sk-estimator-id-1\" class=\"sk-toggleable__label fitted sk-toggleable__label-arrow\"><div><div>SimpleImputer</div></div><div><a class=\"sk-estimator-doc-link fitted\" rel=\"noreferrer\" target=\"_blank\" href=\"https://scikit-learn.org/1.6/modules/generated/sklearn.impute.SimpleImputer.html\">?<span>Documentation for SimpleImputer</span></a><span class=\"sk-estimator-doc-link fitted\">i<span>Fitted</span></span></div></label><div class=\"sk-toggleable__content fitted\"><pre>SimpleImputer(strategy=&#x27;median&#x27;)</pre></div> </div></div></div></div>"
      ],
      "text/plain": [
       "SimpleImputer(strategy='median')"
      ]
     },
     "execution_count": 8,
     "metadata": {},
     "output_type": "execute_result"
    }
   ],
   "source": [
    "from sklearn.impute import SimpleImputer\n",
    "imputer = SimpleImputer(strategy = 'median')\n",
    "imputer.fit(housing)"
   ]
  },
  {
   "cell_type": "code",
   "execution_count": 9,
   "id": "27c3fce7-4303-4a88-812a-7d41c294adfe",
   "metadata": {},
   "outputs": [
    {
     "data": {
      "text/plain": [
       "array([2.9000e-01, 5.0000e-02, 9.6550e+00, 1.0000e-02, 5.5000e-01,\n",
       "       6.2200e+00, 7.7480e+01, 3.2350e+00, 5.0100e+00, 3.3002e+02,\n",
       "       1.9005e+01, 3.9135e+02, 1.1325e+01, 2.1245e+01])"
      ]
     },
     "execution_count": 9,
     "metadata": {},
     "output_type": "execute_result"
    }
   ],
   "source": [
    "imputer.statistics_"
   ]
  },
  {
   "cell_type": "markdown",
   "id": "fed0d7c2-4339-4848-b8a5-e30efa4768d9",
   "metadata": {},
   "source": [
    "### 3.3 Applying Imputation and Creating a Transformed DataFrame\n",
    "Description: In this step, we apply the imputer to replace the missing values with the corresponding median values. The transformed data is then stored in a new DataFrame housing_tr, maintaining the original column names to ensure consistency in the datase"
   ]
  },
  {
   "cell_type": "code",
   "execution_count": 10,
   "id": "bdfff531-b23a-48d8-aa5c-439c940af085",
   "metadata": {},
   "outputs": [],
   "source": [
    "X = imputer.transform(housing)"
   ]
  },
  {
   "cell_type": "code",
   "execution_count": 11,
   "id": "acc3a355-2b6b-490b-a3e4-eab655a635c0",
   "metadata": {},
   "outputs": [],
   "source": [
    "housing_tr = pd.DataFrame(X , columns=housing.columns)"
   ]
  },
  {
   "cell_type": "markdown",
   "id": "c6af2771-86a0-4936-abbd-1205a6b6720e",
   "metadata": {},
   "source": [
    "**This provides summary statistics (mean, std, min, max) for the numerical features in the transformed dataset, helping assess their distribution.**"
   ]
  },
  {
   "cell_type": "code",
   "execution_count": 12,
   "id": "e103ba06-8bc1-4976-9aab-4cc430aaf564",
   "metadata": {},
   "outputs": [
    {
     "data": {
      "text/html": [
       "<div>\n",
       "<style scoped>\n",
       "    .dataframe tbody tr th:only-of-type {\n",
       "        vertical-align: middle;\n",
       "    }\n",
       "\n",
       "    .dataframe tbody tr th {\n",
       "        vertical-align: top;\n",
       "    }\n",
       "\n",
       "    .dataframe thead th {\n",
       "        text-align: right;\n",
       "    }\n",
       "</style>\n",
       "<table border=\"1\" class=\"dataframe\">\n",
       "  <thead>\n",
       "    <tr style=\"text-align: right;\">\n",
       "      <th></th>\n",
       "      <th>Area_Code</th>\n",
       "      <th>Land_Zoning</th>\n",
       "      <th>Business_Acreage</th>\n",
       "      <th>River_Proximity</th>\n",
       "      <th>Pollution_Level</th>\n",
       "      <th>Rooms_Avg</th>\n",
       "      <th>Old_Units_Rate</th>\n",
       "      <th>Distance_Centers</th>\n",
       "      <th>Highway_Access</th>\n",
       "      <th>Tax_Rate</th>\n",
       "      <th>Student_Teacher_Ratio</th>\n",
       "      <th>Demographic_Index</th>\n",
       "      <th>Low_Economic_Pop</th>\n",
       "      <th>Median_House_Value</th>\n",
       "    </tr>\n",
       "  </thead>\n",
       "  <tbody>\n",
       "    <tr>\n",
       "      <th>count</th>\n",
       "      <td>506.000000</td>\n",
       "      <td>506.000000</td>\n",
       "      <td>506.000000</td>\n",
       "      <td>506.000000</td>\n",
       "      <td>506.000000</td>\n",
       "      <td>506.000000</td>\n",
       "      <td>506.000000</td>\n",
       "      <td>506.000000</td>\n",
       "      <td>506.000000</td>\n",
       "      <td>506.000000</td>\n",
       "      <td>506.000000</td>\n",
       "      <td>506.000000</td>\n",
       "      <td>506.000000</td>\n",
       "      <td>506.000000</td>\n",
       "    </tr>\n",
       "    <tr>\n",
       "      <th>mean</th>\n",
       "      <td>3.614111</td>\n",
       "      <td>11.367767</td>\n",
       "      <td>11.146047</td>\n",
       "      <td>0.070751</td>\n",
       "      <td>0.556285</td>\n",
       "      <td>6.282925</td>\n",
       "      <td>68.575672</td>\n",
       "      <td>3.791245</td>\n",
       "      <td>9.542154</td>\n",
       "      <td>408.236858</td>\n",
       "      <td>18.452174</td>\n",
       "      <td>356.669862</td>\n",
       "      <td>12.649743</td>\n",
       "      <td>22.530138</td>\n",
       "    </tr>\n",
       "    <tr>\n",
       "      <th>std</th>\n",
       "      <td>8.605553</td>\n",
       "      <td>23.323667</td>\n",
       "      <td>6.868790</td>\n",
       "      <td>0.277677</td>\n",
       "      <td>0.151027</td>\n",
       "      <td>0.704762</td>\n",
       "      <td>28.144546</td>\n",
       "      <td>2.105516</td>\n",
       "      <td>8.707662</td>\n",
       "      <td>168.545766</td>\n",
       "      <td>2.166840</td>\n",
       "      <td>91.287772</td>\n",
       "      <td>7.143296</td>\n",
       "      <td>9.189141</td>\n",
       "    </tr>\n",
       "    <tr>\n",
       "      <th>min</th>\n",
       "      <td>-0.180000</td>\n",
       "      <td>-0.270000</td>\n",
       "      <td>0.390000</td>\n",
       "      <td>-0.290000</td>\n",
       "      <td>0.200000</td>\n",
       "      <td>3.950000</td>\n",
       "      <td>2.960000</td>\n",
       "      <td>0.980000</td>\n",
       "      <td>0.880000</td>\n",
       "      <td>186.880000</td>\n",
       "      <td>12.440000</td>\n",
       "      <td>0.540000</td>\n",
       "      <td>1.480000</td>\n",
       "      <td>4.930000</td>\n",
       "    </tr>\n",
       "    <tr>\n",
       "      <th>25%</th>\n",
       "      <td>0.100000</td>\n",
       "      <td>-0.040000</td>\n",
       "      <td>5.092500</td>\n",
       "      <td>-0.060000</td>\n",
       "      <td>0.450000</td>\n",
       "      <td>5.880000</td>\n",
       "      <td>45.015000</td>\n",
       "      <td>2.092500</td>\n",
       "      <td>3.970000</td>\n",
       "      <td>279.027500</td>\n",
       "      <td>17.287500</td>\n",
       "      <td>375.450000</td>\n",
       "      <td>6.972500</td>\n",
       "      <td>17.002500</td>\n",
       "    </tr>\n",
       "    <tr>\n",
       "      <th>50%</th>\n",
       "      <td>0.290000</td>\n",
       "      <td>0.050000</td>\n",
       "      <td>9.655000</td>\n",
       "      <td>0.010000</td>\n",
       "      <td>0.550000</td>\n",
       "      <td>6.220000</td>\n",
       "      <td>77.480000</td>\n",
       "      <td>3.235000</td>\n",
       "      <td>5.010000</td>\n",
       "      <td>330.020000</td>\n",
       "      <td>19.005000</td>\n",
       "      <td>391.350000</td>\n",
       "      <td>11.325000</td>\n",
       "      <td>21.245000</td>\n",
       "    </tr>\n",
       "    <tr>\n",
       "      <th>75%</th>\n",
       "      <td>3.637500</td>\n",
       "      <td>12.540000</td>\n",
       "      <td>18.120000</td>\n",
       "      <td>0.090000</td>\n",
       "      <td>0.647500</td>\n",
       "      <td>6.610000</td>\n",
       "      <td>94.115000</td>\n",
       "      <td>5.130000</td>\n",
       "      <td>23.810000</td>\n",
       "      <td>665.860000</td>\n",
       "      <td>20.190000</td>\n",
       "      <td>396.215000</td>\n",
       "      <td>16.950000</td>\n",
       "      <td>24.960000</td>\n",
       "    </tr>\n",
       "    <tr>\n",
       "      <th>max</th>\n",
       "      <td>88.890000</td>\n",
       "      <td>99.970000</td>\n",
       "      <td>27.820000</td>\n",
       "      <td>1.190000</td>\n",
       "      <td>1.080000</td>\n",
       "      <td>8.830000</td>\n",
       "      <td>100.230000</td>\n",
       "      <td>12.230000</td>\n",
       "      <td>24.210000</td>\n",
       "      <td>711.110000</td>\n",
       "      <td>22.060000</td>\n",
       "      <td>397.160000</td>\n",
       "      <td>37.890000</td>\n",
       "      <td>50.180000</td>\n",
       "    </tr>\n",
       "  </tbody>\n",
       "</table>\n",
       "</div>"
      ],
      "text/plain": [
       "        Area_Code  Land_Zoning  Business_Acreage  River_Proximity  \\\n",
       "count  506.000000   506.000000        506.000000       506.000000   \n",
       "mean     3.614111    11.367767         11.146047         0.070751   \n",
       "std      8.605553    23.323667          6.868790         0.277677   \n",
       "min     -0.180000    -0.270000          0.390000        -0.290000   \n",
       "25%      0.100000    -0.040000          5.092500        -0.060000   \n",
       "50%      0.290000     0.050000          9.655000         0.010000   \n",
       "75%      3.637500    12.540000         18.120000         0.090000   \n",
       "max     88.890000    99.970000         27.820000         1.190000   \n",
       "\n",
       "       Pollution_Level   Rooms_Avg  Old_Units_Rate  Distance_Centers  \\\n",
       "count       506.000000  506.000000      506.000000        506.000000   \n",
       "mean          0.556285    6.282925       68.575672          3.791245   \n",
       "std           0.151027    0.704762       28.144546          2.105516   \n",
       "min           0.200000    3.950000        2.960000          0.980000   \n",
       "25%           0.450000    5.880000       45.015000          2.092500   \n",
       "50%           0.550000    6.220000       77.480000          3.235000   \n",
       "75%           0.647500    6.610000       94.115000          5.130000   \n",
       "max           1.080000    8.830000      100.230000         12.230000   \n",
       "\n",
       "       Highway_Access    Tax_Rate  Student_Teacher_Ratio  Demographic_Index  \\\n",
       "count      506.000000  506.000000             506.000000         506.000000   \n",
       "mean         9.542154  408.236858              18.452174         356.669862   \n",
       "std          8.707662  168.545766               2.166840          91.287772   \n",
       "min          0.880000  186.880000              12.440000           0.540000   \n",
       "25%          3.970000  279.027500              17.287500         375.450000   \n",
       "50%          5.010000  330.020000              19.005000         391.350000   \n",
       "75%         23.810000  665.860000              20.190000         396.215000   \n",
       "max         24.210000  711.110000              22.060000         397.160000   \n",
       "\n",
       "       Low_Economic_Pop  Median_House_Value  \n",
       "count        506.000000          506.000000  \n",
       "mean          12.649743           22.530138  \n",
       "std            7.143296            9.189141  \n",
       "min            1.480000            4.930000  \n",
       "25%            6.972500           17.002500  \n",
       "50%           11.325000           21.245000  \n",
       "75%           16.950000           24.960000  \n",
       "max           37.890000           50.180000  "
      ]
     },
     "execution_count": 12,
     "metadata": {},
     "output_type": "execute_result"
    }
   ],
   "source": [
    "housing_tr.describe() "
   ]
  },
  {
   "cell_type": "markdown",
   "id": "87aa95e7-aa10-4eee-bead-f25bfc618510",
   "metadata": {},
   "source": [
    "**- This shows the data types of each column, helping identify any columns that need type conversion before analysis.**\n",
    "\n"
   ]
  },
  {
   "cell_type": "code",
   "execution_count": 13,
   "id": "08baaf2c-0b2c-4209-9232-8f3ccbdf48c8",
   "metadata": {},
   "outputs": [
    {
     "data": {
      "text/plain": [
       "Area_Code                float64\n",
       "Land_Zoning              float64\n",
       "Business_Acreage         float64\n",
       "River_Proximity          float64\n",
       "Pollution_Level          float64\n",
       "Rooms_Avg                float64\n",
       "Old_Units_Rate           float64\n",
       "Distance_Centers         float64\n",
       "Highway_Access           float64\n",
       "Tax_Rate                 float64\n",
       "Student_Teacher_Ratio    float64\n",
       "Demographic_Index        float64\n",
       "Low_Economic_Pop         float64\n",
       "Median_House_Value       float64\n",
       "dtype: object"
      ]
     },
     "execution_count": 13,
     "metadata": {},
     "output_type": "execute_result"
    }
   ],
   "source": [
    "housing.dtypes"
   ]
  },
  {
   "cell_type": "markdown",
   "id": "0f3d68ff-7f46-4156-99d1-8e6105433bc1",
   "metadata": {},
   "source": [
    "*Duplicates are removed to ensure that the dataset contains only unique rows, preventing bias in the analysis.*"
   ]
  },
  {
   "cell_type": "code",
   "execution_count": 14,
   "id": "dfbe5eb3-28b2-4e9c-aa87-afd5aa2e62a3",
   "metadata": {},
   "outputs": [],
   "source": [
    "housing.drop_duplicates(inplace=True)"
   ]
  },
  {
   "cell_type": "markdown",
   "id": "b0bc2e5c-29de-4372-a007-6c1755a79b81",
   "metadata": {},
   "source": [
    "**This outputs the column names, helping verify the dataset’s features and ensure correct processing.**"
   ]
  },
  {
   "cell_type": "code",
   "execution_count": 15,
   "id": "38dc18fb-a8d2-4745-98f9-ae7960c7ecac",
   "metadata": {},
   "outputs": [
    {
     "data": {
      "text/plain": [
       "Index(['Area_Code', 'Land_Zoning', 'Business_Acreage', 'River_Proximity',\n",
       "       'Pollution_Level', 'Rooms_Avg', 'Old_Units_Rate', 'Distance_Centers',\n",
       "       'Highway_Access', 'Tax_Rate', 'Student_Teacher_Ratio',\n",
       "       'Demographic_Index', 'Low_Economic_Pop', 'Median_House_Value'],\n",
       "      dtype='object')"
      ]
     },
     "execution_count": 15,
     "metadata": {},
     "output_type": "execute_result"
    }
   ],
   "source": [
    "housing.columns"
   ]
  },
  {
   "cell_type": "markdown",
   "id": "22db47e9-9f03-4d68-994a-41e219f402f8",
   "metadata": {},
   "source": [
    "### 3.3 Visualizing Data Distribution\n",
    "We use histograms to visualize the frequency distribution of numerical columns. This helps identify patterns, detect outliers, and understand data spread. The bins=50 parameter ensures detail, and figsize makes the plots easy to view."
   ]
  },
  {
   "cell_type": "code",
   "execution_count": 16,
   "id": "f1db61d9-aa39-4c8f-8afa-733dc6d6176f",
   "metadata": {
    "scrolled": true
   },
   "outputs": [
    {
     "data": {
      "text/plain": [
       "array([[<Axes: title={'center': 'Area_Code'}>,\n",
       "        <Axes: title={'center': 'Land_Zoning'}>,\n",
       "        <Axes: title={'center': 'Business_Acreage'}>,\n",
       "        <Axes: title={'center': 'River_Proximity'}>],\n",
       "       [<Axes: title={'center': 'Pollution_Level'}>,\n",
       "        <Axes: title={'center': 'Rooms_Avg'}>,\n",
       "        <Axes: title={'center': 'Old_Units_Rate'}>,\n",
       "        <Axes: title={'center': 'Distance_Centers'}>],\n",
       "       [<Axes: title={'center': 'Highway_Access'}>,\n",
       "        <Axes: title={'center': 'Tax_Rate'}>,\n",
       "        <Axes: title={'center': 'Student_Teacher_Ratio'}>,\n",
       "        <Axes: title={'center': 'Demographic_Index'}>],\n",
       "       [<Axes: title={'center': 'Low_Economic_Pop'}>,\n",
       "        <Axes: title={'center': 'Median_House_Value'}>, <Axes: >,\n",
       "        <Axes: >]], dtype=object)"
      ]
     },
     "execution_count": 16,
     "metadata": {},
     "output_type": "execute_result"
    },
    {
     "data": {
      "image/png": "[encoded data removed]",
      "text/plain": [
       "<Figure size 2500x1500 with 16 Axes>"
      ]
     },
     "metadata": {},
     "output_type": "display_data"
    }
   ],
   "source": [
    "housing.hist(bins=50,figsize=(25,15))"
   ]
  },
  {
   "cell_type": "markdown",
   "id": "e7bfc3c6-cea3-4d28-959a-cfdfd71e4ad7",
   "metadata": {},
   "source": [
    "# 4. Train- Test Splitting \n",
    "\n",
    "We split the dataset into training (80%) and test (20%) sets using train_test_split. This ensures that the model is trained on one portion of the data and tested on another, enabling us to evaluate its performance."
   ]
  },
  {
   "cell_type": "code",
   "execution_count": 17,
   "id": "8f26185a-8534-4ec4-bfd1-68bab31dfe6a",
   "metadata": {},
   "outputs": [
    {
     "name": "stdout",
     "output_type": "stream",
     "text": [
      "Rows in train set: 404\n",
      "Rows in test_set: 102\n",
      "\n"
     ]
    }
   ],
   "source": [
    "from sklearn.model_selection import train_test_split\n",
    "train_set, test_set  = train_test_split(housing, test_size=0.2, random_state=42)\n",
    "print(f\"Rows in train set: {len(train_set)}\\nRows in test_set: {len(test_set)}\\n\")"
   ]
  },
  {
   "cell_type": "markdown",
   "id": "a597411d-a3b6-493a-b3e5-22b90fba78b2",
   "metadata": {},
   "source": [
    "### 4.2 Implementing K-Fold Cross-Validation\n",
    "We use K-Fold Cross-Validation to divide the dataset into 5 subsets, allowing the model to train and test on different portions of the data. This ensures a more robust evaluation. Shuffling is enabled to randomize the data, and random_state ensures reproducibility."
   ]
  },
  {
   "cell_type": "code",
   "execution_count": 18,
   "id": "afc6be05-902e-491e-87f8-bb45b3146663",
   "metadata": {},
   "outputs": [],
   "source": [
    "from sklearn.model_selection import KFold\n",
    "\n",
    "kf = KFold(n_splits=5, shuffle=True, random_state=42)  # 5 splits for cross-validation\n",
    "\n",
    "for train_index, test_index in kf.split(housing):\n",
    "    strat_train_set = housing.loc[train_index]\n",
    "    strat_test_set = housing.loc[test_index]\n"
   ]
  },
  {
   "cell_type": "code",
   "execution_count": 19,
   "id": "d686a0ef-2fec-417e-a72d-35a9723ced81",
   "metadata": {},
   "outputs": [
    {
     "name": "stdout",
     "output_type": "stream",
     "text": [
      "Train indices: [ 0  2  3  4  5  6  7  8  9 10]\n",
      "Test indices: [ 1 13 20 21 34 43 48 49 50 52]\n"
     ]
    }
   ],
   "source": [
    "    print(\"Train indices:\", train_index[:10])\n",
    "    print(\"Test indices:\", test_index[:10])"
   ]
  },
  {
   "cell_type": "markdown",
   "id": "de44e3b0-7f7a-4e10-a9c6-55ca1cdd6720",
   "metadata": {},
   "source": [
    "**We create a copy of the training set for further preprocessing and model training. Displaying the first 10 rows allows us to verify the data.**"
   ]
  },
  {
   "cell_type": "code",
   "execution_count": 20,
   "id": "946de306-296d-417b-bb74-11cbdb051b72",
   "metadata": {},
   "outputs": [],
   "source": [
    "housing= train_set.copy()"
   ]
  },
  {
   "cell_type": "code",
   "execution_count": 21,
   "id": "4281a676-6aa2-4798-9cd6-a33bc023bd4c",
   "metadata": {},
   "outputs": [
    {
     "data": {
      "text/html": [
       "<div>\n",
       "<style scoped>\n",
       "    .dataframe tbody tr th:only-of-type {\n",
       "        vertical-align: middle;\n",
       "    }\n",
       "\n",
       "    .dataframe tbody tr th {\n",
       "        vertical-align: top;\n",
       "    }\n",
       "\n",
       "    .dataframe thead th {\n",
       "        text-align: right;\n",
       "    }\n",
       "</style>\n",
       "<table border=\"1\" class=\"dataframe\">\n",
       "  <thead>\n",
       "    <tr style=\"text-align: right;\">\n",
       "      <th></th>\n",
       "      <th>Area_Code</th>\n",
       "      <th>Land_Zoning</th>\n",
       "      <th>Business_Acreage</th>\n",
       "      <th>River_Proximity</th>\n",
       "      <th>Pollution_Level</th>\n",
       "      <th>Rooms_Avg</th>\n",
       "      <th>Old_Units_Rate</th>\n",
       "      <th>Distance_Centers</th>\n",
       "      <th>Highway_Access</th>\n",
       "      <th>Tax_Rate</th>\n",
       "      <th>Student_Teacher_Ratio</th>\n",
       "      <th>Demographic_Index</th>\n",
       "      <th>Low_Economic_Pop</th>\n",
       "      <th>Median_House_Value</th>\n",
       "    </tr>\n",
       "  </thead>\n",
       "  <tbody>\n",
       "    <tr>\n",
       "      <th>477</th>\n",
       "      <td>15.05</td>\n",
       "      <td>0.00</td>\n",
       "      <td>18.23</td>\n",
       "      <td>0.11</td>\n",
       "      <td>0.71</td>\n",
       "      <td>5.15</td>\n",
       "      <td>97.13</td>\n",
       "      <td>2.09</td>\n",
       "      <td>24.11</td>\n",
       "      <td>666.13</td>\n",
       "      <td>20.16</td>\n",
       "      <td>349.44</td>\n",
       "      <td>24.97</td>\n",
       "      <td>11.83</td>\n",
       "    </tr>\n",
       "    <tr>\n",
       "      <th>15</th>\n",
       "      <td>0.57</td>\n",
       "      <td>0.05</td>\n",
       "      <td>8.15</td>\n",
       "      <td>-0.01</td>\n",
       "      <td>0.36</td>\n",
       "      <td>5.88</td>\n",
       "      <td>56.43</td>\n",
       "      <td>4.51</td>\n",
       "      <td>4.03</td>\n",
       "      <td>307.00</td>\n",
       "      <td>21.01</td>\n",
       "      <td>395.72</td>\n",
       "      <td>8.32</td>\n",
       "      <td>19.84</td>\n",
       "    </tr>\n",
       "    <tr>\n",
       "      <th>332</th>\n",
       "      <td>0.04</td>\n",
       "      <td>35.10</td>\n",
       "      <td>6.15</td>\n",
       "      <td>-0.06</td>\n",
       "      <td>0.40</td>\n",
       "      <td>5.92</td>\n",
       "      <td>23.34</td>\n",
       "      <td>6.57</td>\n",
       "      <td>1.02</td>\n",
       "      <td>303.92</td>\n",
       "      <td>16.91</td>\n",
       "      <td>362.25</td>\n",
       "      <td>7.88</td>\n",
       "      <td>19.19</td>\n",
       "    </tr>\n",
       "    <tr>\n",
       "      <th>423</th>\n",
       "      <td>7.15</td>\n",
       "      <td>-0.01</td>\n",
       "      <td>18.13</td>\n",
       "      <td>-0.04</td>\n",
       "      <td>0.59</td>\n",
       "      <td>6.26</td>\n",
       "      <td>84.98</td>\n",
       "      <td>2.06</td>\n",
       "      <td>24.13</td>\n",
       "      <td>666.01</td>\n",
       "      <td>20.20</td>\n",
       "      <td>2.48</td>\n",
       "      <td>23.33</td>\n",
       "      <td>13.22</td>\n",
       "    </tr>\n",
       "    <tr>\n",
       "      <th>19</th>\n",
       "      <td>0.58</td>\n",
       "      <td>-0.18</td>\n",
       "      <td>7.97</td>\n",
       "      <td>-0.05</td>\n",
       "      <td>0.55</td>\n",
       "      <td>5.94</td>\n",
       "      <td>69.41</td>\n",
       "      <td>3.72</td>\n",
       "      <td>4.03</td>\n",
       "      <td>306.94</td>\n",
       "      <td>21.15</td>\n",
       "      <td>390.88</td>\n",
       "      <td>11.29</td>\n",
       "      <td>18.14</td>\n",
       "    </tr>\n",
       "    <tr>\n",
       "      <th>325</th>\n",
       "      <td>0.07</td>\n",
       "      <td>-0.09</td>\n",
       "      <td>7.35</td>\n",
       "      <td>0.01</td>\n",
       "      <td>0.45</td>\n",
       "      <td>6.38</td>\n",
       "      <td>14.53</td>\n",
       "      <td>5.58</td>\n",
       "      <td>5.01</td>\n",
       "      <td>287.10</td>\n",
       "      <td>19.60</td>\n",
       "      <td>393.75</td>\n",
       "      <td>4.95</td>\n",
       "      <td>24.55</td>\n",
       "    </tr>\n",
       "    <tr>\n",
       "      <th>335</th>\n",
       "      <td>0.02</td>\n",
       "      <td>0.07</td>\n",
       "      <td>5.28</td>\n",
       "      <td>0.09</td>\n",
       "      <td>0.56</td>\n",
       "      <td>6.01</td>\n",
       "      <td>34.38</td>\n",
       "      <td>6.01</td>\n",
       "      <td>5.02</td>\n",
       "      <td>224.06</td>\n",
       "      <td>20.28</td>\n",
       "      <td>396.65</td>\n",
       "      <td>8.04</td>\n",
       "      <td>21.22</td>\n",
       "    </tr>\n",
       "    <tr>\n",
       "      <th>56</th>\n",
       "      <td>-0.06</td>\n",
       "      <td>85.09</td>\n",
       "      <td>0.69</td>\n",
       "      <td>0.05</td>\n",
       "      <td>0.41</td>\n",
       "      <td>6.25</td>\n",
       "      <td>35.69</td>\n",
       "      <td>9.22</td>\n",
       "      <td>1.99</td>\n",
       "      <td>313.01</td>\n",
       "      <td>17.47</td>\n",
       "      <td>396.81</td>\n",
       "      <td>5.69</td>\n",
       "      <td>24.62</td>\n",
       "    </tr>\n",
       "    <tr>\n",
       "      <th>437</th>\n",
       "      <td>15.04</td>\n",
       "      <td>-0.01</td>\n",
       "      <td>18.10</td>\n",
       "      <td>0.14</td>\n",
       "      <td>0.81</td>\n",
       "      <td>6.09</td>\n",
       "      <td>99.89</td>\n",
       "      <td>1.81</td>\n",
       "      <td>23.84</td>\n",
       "      <td>666.07</td>\n",
       "      <td>20.13</td>\n",
       "      <td>9.27</td>\n",
       "      <td>26.59</td>\n",
       "      <td>8.74</td>\n",
       "    </tr>\n",
       "    <tr>\n",
       "      <th>409</th>\n",
       "      <td>14.49</td>\n",
       "      <td>0.03</td>\n",
       "      <td>18.21</td>\n",
       "      <td>-0.03</td>\n",
       "      <td>0.58</td>\n",
       "      <td>6.81</td>\n",
       "      <td>99.89</td>\n",
       "      <td>1.38</td>\n",
       "      <td>23.87</td>\n",
       "      <td>666.03</td>\n",
       "      <td>20.21</td>\n",
       "      <td>179.30</td>\n",
       "      <td>19.58</td>\n",
       "      <td>27.71</td>\n",
       "    </tr>\n",
       "  </tbody>\n",
       "</table>\n",
       "</div>"
      ],
      "text/plain": [
       "     Area_Code  Land_Zoning  Business_Acreage  River_Proximity  \\\n",
       "477      15.05         0.00             18.23             0.11   \n",
       "15        0.57         0.05              8.15            -0.01   \n",
       "332       0.04        35.10              6.15            -0.06   \n",
       "423       7.15        -0.01             18.13            -0.04   \n",
       "19        0.58        -0.18              7.97            -0.05   \n",
       "325       0.07        -0.09              7.35             0.01   \n",
       "335       0.02         0.07              5.28             0.09   \n",
       "56       -0.06        85.09              0.69             0.05   \n",
       "437      15.04        -0.01             18.10             0.14   \n",
       "409      14.49         0.03             18.21            -0.03   \n",
       "\n",
       "     Pollution_Level  Rooms_Avg  Old_Units_Rate  Distance_Centers  \\\n",
       "477             0.71       5.15           97.13              2.09   \n",
       "15              0.36       5.88           56.43              4.51   \n",
       "332             0.40       5.92           23.34              6.57   \n",
       "423             0.59       6.26           84.98              2.06   \n",
       "19              0.55       5.94           69.41              3.72   \n",
       "325             0.45       6.38           14.53              5.58   \n",
       "335             0.56       6.01           34.38              6.01   \n",
       "56              0.41       6.25           35.69              9.22   \n",
       "437             0.81       6.09           99.89              1.81   \n",
       "409             0.58       6.81           99.89              1.38   \n",
       "\n",
       "     Highway_Access  Tax_Rate  Student_Teacher_Ratio  Demographic_Index  \\\n",
       "477           24.11    666.13                  20.16             349.44   \n",
       "15             4.03    307.00                  21.01             395.72   \n",
       "332            1.02    303.92                  16.91             362.25   \n",
       "423           24.13    666.01                  20.20               2.48   \n",
       "19             4.03    306.94                  21.15             390.88   \n",
       "325            5.01    287.10                  19.60             393.75   \n",
       "335            5.02    224.06                  20.28             396.65   \n",
       "56             1.99    313.01                  17.47             396.81   \n",
       "437           23.84    666.07                  20.13               9.27   \n",
       "409           23.87    666.03                  20.21             179.30   \n",
       "\n",
       "     Low_Economic_Pop  Median_House_Value  \n",
       "477             24.97               11.83  \n",
       "15               8.32               19.84  \n",
       "332              7.88               19.19  \n",
       "423             23.33               13.22  \n",
       "19              11.29               18.14  \n",
       "325              4.95               24.55  \n",
       "335              8.04               21.22  \n",
       "56               5.69               24.62  \n",
       "437             26.59                8.74  \n",
       "409             19.58               27.71  "
      ]
     },
     "execution_count": 21,
     "metadata": {},
     "output_type": "execute_result"
    }
   ],
   "source": [
    "housing.head(10)"
   ]
  },
  {
   "cell_type": "markdown",
   "id": "5972d085-5727-4ac2-a18d-3610c631a550",
   "metadata": {},
   "source": [
    "# 5. Looking for Correlations\n",
    "\n",
    "We compute the correlation matrix for numerical features to identify relationships between variables. Sorting by Median_House_Value helps determine the most relevant predictors for house prices."
   ]
  },
  {
   "cell_type": "code",
   "execution_count": 22,
   "id": "05c49a7d-5bd1-4fe8-94a9-1f87d5280b47",
   "metadata": {},
   "outputs": [
    {
     "data": {
      "text/plain": [
       "Median_House_Value       1.000000\n",
       "Rooms_Avg                0.704169\n",
       "Demographic_Index        0.339475\n",
       "Land_Zoning              0.309715\n",
       "Distance_Centers         0.228321\n",
       "River_Proximity          0.162602\n",
       "Old_Units_Rate          -0.339627\n",
       "Pollution_Level         -0.348081\n",
       "Area_Code               -0.378673\n",
       "Highway_Access          -0.387449\n",
       "Tax_Rate                -0.459091\n",
       "Business_Acreage        -0.470433\n",
       "Student_Teacher_Ratio   -0.492809\n",
       "Low_Economic_Pop        -0.736323\n",
       "Name: Median_House_Value, dtype: float64"
      ]
     },
     "execution_count": 22,
     "metadata": {},
     "output_type": "execute_result"
    }
   ],
   "source": [
    "housing_numeric = housing.select_dtypes(include=[float, int])\n",
    "coor_matrix = housing_numeric.corr()\n",
    "coor_matrix['Median_House_Value'].sort_values(ascending=False)"
   ]
  },
  {
   "cell_type": "markdown",
   "id": "88fc3ff7-c371-4c28-bb33-b9cc94e6e15e",
   "metadata": {},
   "source": [
    "### 5.1 Scatter Matrix for Key Attributes\n",
    "The scatter matrix visualizes pairwise relationships among selected attributes. It helps identify patterns, trends, or potential outliers that may influence house values."
   ]
  },
  {
   "cell_type": "code",
   "execution_count": 23,
   "id": "eb34c87c-5f9c-42b6-a87b-62cc0eeb10df",
   "metadata": {},
   "outputs": [
    {
     "data": {
      "text/plain": [
       "array([[<Axes: xlabel='Median_House_Value', ylabel='Median_House_Value'>,\n",
       "        <Axes: xlabel='Rooms_Avg', ylabel='Median_House_Value'>,\n",
       "        <Axes: xlabel='Land_Zoning', ylabel='Median_House_Value'>,\n",
       "        <Axes: xlabel='Low_Economic_Pop', ylabel='Median_House_Value'>],\n",
       "       [<Axes: xlabel='Median_House_Value', ylabel='Rooms_Avg'>,\n",
       "        <Axes: xlabel='Rooms_Avg', ylabel='Rooms_Avg'>,\n",
       "        <Axes: xlabel='Land_Zoning', ylabel='Rooms_Avg'>,\n",
       "        <Axes: xlabel='Low_Economic_Pop', ylabel='Rooms_Avg'>],\n",
       "       [<Axes: xlabel='Median_House_Value', ylabel='Land_Zoning'>,\n",
       "        <Axes: xlabel='Rooms_Avg', ylabel='Land_Zoning'>,\n",
       "        <Axes: xlabel='Land_Zoning', ylabel='Land_Zoning'>,\n",
       "        <Axes: xlabel='Low_Economic_Pop', ylabel='Land_Zoning'>],\n",
       "       [<Axes: xlabel='Median_House_Value', ylabel='Low_Economic_Pop'>,\n",
       "        <Axes: xlabel='Rooms_Avg', ylabel='Low_Economic_Pop'>,\n",
       "        <Axes: xlabel='Land_Zoning', ylabel='Low_Economic_Pop'>,\n",
       "        <Axes: xlabel='Low_Economic_Pop', ylabel='Low_Economic_Pop'>]],\n",
       "      dtype=object)"
      ]
     },
     "execution_count": 23,
     "metadata": {},
     "output_type": "execute_result"
    },
    {
     "data": {
      "image/png": "[encoded data removed]",
      "text/plain": [
       "<Figure size 1200x800 with 16 Axes>"
      ]
     },
     "metadata": {},
     "output_type": "display_data"
    }
   ],
   "source": [
    "from pandas.plotting import scatter_matrix\n",
    "attributes=['Median_House_Value','Rooms_Avg','Land_Zoning','Low_Economic_Pop']\n",
    "scatter_matrix(housing[attributes],figsize=(12,8))"
   ]
  },
  {
   "cell_type": "markdown",
   "id": "1a6afe55-6173-48b9-9115-e2e152313c60",
   "metadata": {},
   "source": [
    "### 5.3 Scatter Plot of Specific Features\n",
    "\n",
    "A scatter plot is used to examine the relationship between Low_Economic_Pop and Median_House_Value. Adjusting alpha enhances visualization by reducing overlap in densely populated areas."
   ]
  },
  {
   "cell_type": "code",
   "execution_count": 24,
   "id": "5adf79f6-79e5-4045-bc63-93990d6c5c21",
   "metadata": {},
   "outputs": [
    {
     "data": {
      "text/plain": [
       "<Axes: xlabel='Low_Economic_Pop', ylabel='Median_House_Value'>"
      ]
     },
     "execution_count": 24,
     "metadata": {},
     "output_type": "execute_result"
    },
    {
     "data": {
      "image/png": "[encoded data removed]",
      "text/plain": [
       "<Figure size 640x480 with 1 Axes>"
      ]
     },
     "metadata": {},
     "output_type": "display_data"
    }
   ],
   "source": [
    "housing.plot(kind='scatter',x='Low_Economic_Pop',y='Median_House_Value',alpha=0.8)"
   ]
  },
  {
   "cell_type": "markdown",
   "id": "51d040ab-2cb8-4e44-a566-e257c0140a5d",
   "metadata": {},
   "source": [
    "# 6. Trying out Attributes combinations\n",
    "\n",
    "We create a new feature, Demographic_Index /Pollution_Level, by dividing Demographic_Index by Pollution_Level. This feature helps analyze the combined effect of demographics and pollution levels on house values."
   ]
  },
  {
   "cell_type": "code",
   "execution_count": 25,
   "id": "d4fac86a-1d15-4dba-a91d-d4b96270d718",
   "metadata": {},
   "outputs": [],
   "source": [
    "housing['Demographic_Index /Pollution_Level'] = housing['Demographic_Index']/housing['Pollution_Level']"
   ]
  },
  {
   "cell_type": "code",
   "execution_count": 50,
   "id": "38ef9b2f-6169-4078-aba8-5fbe3e03f91b",
   "metadata": {},
   "outputs": [
    {
     "data": {
      "text/html": [
       "<div>\n",
       "<style scoped>\n",
       "    .dataframe tbody tr th:only-of-type {\n",
       "        vertical-align: middle;\n",
       "    }\n",
       "\n",
       "    .dataframe tbody tr th {\n",
       "        vertical-align: top;\n",
       "    }\n",
       "\n",
       "    .dataframe thead th {\n",
       "        text-align: right;\n",
       "    }\n",
       "</style>\n",
       "<table border=\"1\" class=\"dataframe\">\n",
       "  <thead>\n",
       "    <tr style=\"text-align: right;\">\n",
       "      <th></th>\n",
       "      <th>Area_Code</th>\n",
       "      <th>Land_Zoning</th>\n",
       "      <th>Business_Acreage</th>\n",
       "      <th>River_Proximity</th>\n",
       "      <th>Pollution_Level</th>\n",
       "      <th>Rooms_Avg</th>\n",
       "      <th>Old_Units_Rate</th>\n",
       "      <th>Distance_Centers</th>\n",
       "      <th>Highway_Access</th>\n",
       "      <th>Tax_Rate</th>\n",
       "      <th>Student_Teacher_Ratio</th>\n",
       "      <th>Demographic_Index</th>\n",
       "      <th>Low_Economic_Pop</th>\n",
       "    </tr>\n",
       "  </thead>\n",
       "  <tbody>\n",
       "    <tr>\n",
       "      <th>0</th>\n",
       "      <td>0.06</td>\n",
       "      <td>17.94</td>\n",
       "      <td>2.52</td>\n",
       "      <td>-0.10</td>\n",
       "      <td>0.24</td>\n",
       "      <td>6.62</td>\n",
       "      <td>65.17</td>\n",
       "      <td>4.18</td>\n",
       "      <td>0.99</td>\n",
       "      <td>295.99</td>\n",
       "      <td>15.27</td>\n",
       "      <td>397.01</td>\n",
       "      <td>5.00</td>\n",
       "    </tr>\n",
       "    <tr>\n",
       "      <th>2</th>\n",
       "      <td>0.09</td>\n",
       "      <td>0.00</td>\n",
       "      <td>7.24</td>\n",
       "      <td>0.12</td>\n",
       "      <td>0.65</td>\n",
       "      <td>7.24</td>\n",
       "      <td>61.00</td>\n",
       "      <td>5.10</td>\n",
       "      <td>1.93</td>\n",
       "      <td>241.90</td>\n",
       "      <td>17.77</td>\n",
       "      <td>392.86</td>\n",
       "      <td>4.20</td>\n",
       "    </tr>\n",
       "    <tr>\n",
       "      <th>3</th>\n",
       "      <td>0.18</td>\n",
       "      <td>-0.08</td>\n",
       "      <td>2.20</td>\n",
       "      <td>0.06</td>\n",
       "      <td>0.58</td>\n",
       "      <td>6.91</td>\n",
       "      <td>45.78</td>\n",
       "      <td>6.09</td>\n",
       "      <td>3.02</td>\n",
       "      <td>222.04</td>\n",
       "      <td>18.57</td>\n",
       "      <td>394.53</td>\n",
       "      <td>2.86</td>\n",
       "    </tr>\n",
       "    <tr>\n",
       "      <th>4</th>\n",
       "      <td>0.05</td>\n",
       "      <td>0.03</td>\n",
       "      <td>2.11</td>\n",
       "      <td>-0.02</td>\n",
       "      <td>0.48</td>\n",
       "      <td>7.11</td>\n",
       "      <td>54.26</td>\n",
       "      <td>6.13</td>\n",
       "      <td>3.05</td>\n",
       "      <td>221.95</td>\n",
       "      <td>18.77</td>\n",
       "      <td>396.90</td>\n",
       "      <td>5.20</td>\n",
       "    </tr>\n",
       "    <tr>\n",
       "      <th>5</th>\n",
       "      <td>0.01</td>\n",
       "      <td>-0.01</td>\n",
       "      <td>2.13</td>\n",
       "      <td>-0.10</td>\n",
       "      <td>0.41</td>\n",
       "      <td>6.40</td>\n",
       "      <td>58.72</td>\n",
       "      <td>6.21</td>\n",
       "      <td>3.02</td>\n",
       "      <td>222.07</td>\n",
       "      <td>18.68</td>\n",
       "      <td>394.07</td>\n",
       "      <td>5.12</td>\n",
       "    </tr>\n",
       "  </tbody>\n",
       "</table>\n",
       "</div>"
      ],
      "text/plain": [
       "   Area_Code  Land_Zoning  Business_Acreage  River_Proximity  Pollution_Level  \\\n",
       "0       0.06        17.94              2.52            -0.10             0.24   \n",
       "2       0.09         0.00              7.24             0.12             0.65   \n",
       "3       0.18        -0.08              2.20             0.06             0.58   \n",
       "4       0.05         0.03              2.11            -0.02             0.48   \n",
       "5       0.01        -0.01              2.13            -0.10             0.41   \n",
       "\n",
       "   Rooms_Avg  Old_Units_Rate  Distance_Centers  Highway_Access  Tax_Rate  \\\n",
       "0       6.62           65.17              4.18            0.99    295.99   \n",
       "2       7.24           61.00              5.10            1.93    241.90   \n",
       "3       6.91           45.78              6.09            3.02    222.04   \n",
       "4       7.11           54.26              6.13            3.05    221.95   \n",
       "5       6.40           58.72              6.21            3.02    222.07   \n",
       "\n",
       "   Student_Teacher_Ratio  Demographic_Index  Low_Economic_Pop  \n",
       "0                  15.27             397.01              5.00  \n",
       "2                  17.77             392.86              4.20  \n",
       "3                  18.57             394.53              2.86  \n",
       "4                  18.77             396.90              5.20  \n",
       "5                  18.68             394.07              5.12  "
      ]
     },
     "execution_count": 50,
     "metadata": {},
     "output_type": "execute_result"
    }
   ],
   "source": [
    "housing.head()          # to see the newly created column"
   ]
  },
  {
   "cell_type": "markdown",
   "id": "98243bf0-3caa-4ec3-9070-8b3fc908c0c6",
   "metadata": {},
   "source": [
    "### 6.1 Visualizing the New Feature\n",
    "\n",
    "A scatter plot is used to examine the relationship between the newly created feature and Median_House_Value. This visualization helps determine whether the feature is relevant for predicting house prices"
   ]
  },
  {
   "cell_type": "code",
   "execution_count": 27,
   "id": "bc9f1100-b118-4d33-a9a9-700997b65584",
   "metadata": {},
   "outputs": [
    {
     "data": {
      "text/plain": [
       "<Axes: xlabel='Demographic_Index /Pollution_Level', ylabel='Median_House_Value'>"
      ]
     },
     "execution_count": 27,
     "metadata": {},
     "output_type": "execute_result"
    },
    {
     "data": {
      "image/png": "[encoded data removed]",
      "text/plain": [
       "<Figure size 640x480 with 1 Axes>"
      ]
     },
     "metadata": {},
     "output_type": "display_data"
    }
   ],
   "source": [
    "housing.plot(kind='scatter', x='Demographic_Index /Pollution_Level',y='Median_House_Value')"
   ]
  },
  {
   "cell_type": "markdown",
   "id": "ee337333-3279-4330-9ae6-caa7837e2aa4",
   "metadata": {},
   "source": [
    "### 6.2 Splitting Features and Labels.\n",
    "We prepare the data for model training by separating it into features (housing) and labels (housing_labels). The Median_House_Value column, which represents the target variable, is dropped from the training set and stored separately. This ensures that the model focuses on learning patterns from the features without being influenced directly by the target variable."
   ]
  },
  {
   "cell_type": "code",
   "execution_count": 28,
   "id": "2784aebe-de4b-4289-8c92-1b28b6ce5f0d",
   "metadata": {},
   "outputs": [],
   "source": [
    "housing = strat_train_set.drop('Median_House_Value',axis=1)\n",
    "housing_labels = strat_train_set['Median_House_Value'].copy()"
   ]
  },
  {
   "cell_type": "markdown",
   "id": "fba59c79-585d-42e6-92cd-1b9cc9fa0d73",
   "metadata": {},
   "source": [
    "**We display the first 100 rows of the Rooms_Avg feature to inspect its values and confirm data integrity before proceeding.**"
   ]
  },
  {
   "cell_type": "code",
   "execution_count": 29,
   "id": "58217f0e-51eb-4b8c-9d9c-d144e560ebdb",
   "metadata": {},
   "outputs": [
    {
     "data": {
      "text/plain": [
       "0      6.62\n",
       "2      7.24\n",
       "3      6.91\n",
       "4      7.11\n",
       "5      6.40\n",
       "       ... \n",
       "117    5.88\n",
       "118    5.87\n",
       "119    5.82\n",
       "120    5.78\n",
       "122    6.01\n",
       "Name: Rooms_Avg, Length: 100, dtype: float64"
      ]
     },
     "execution_count": 29,
     "metadata": {},
     "output_type": "execute_result"
    }
   ],
   "source": [
    "housing['Rooms_Avg'].head(100)"
   ]
  },
  {
   "cell_type": "markdown",
   "id": "af62b77f-1a35-4f3f-b4a2-1a18c9f8caa7",
   "metadata": {},
   "source": [
    "# 7. Creating a Pipeline\n",
    "\n",
    "A pipeline is a sequence of data transformation steps and model training combined into a single object. It automates the workflow, ensuring that the same preprocessing steps are applied consistently to both training and test data.\n",
    "\n",
    "By using a pipeline:\n",
    "\n",
    "1. Consistency: The same transformations are applied in the correct order every time.\n",
    "2. Reproducibility: Reduces errors by streamlining the preprocessing steps.\n",
    "3. Convenience: Avoids the need to manually transform data each time, simplifying code.\n",
    "\n",
    "###   Steps in the Pipeline\n",
    "1. Imputer\n",
    "The SimpleImputer replaces missing values in the dataset with a specified strategy (e.g., median, mean, or mode).\n",
    "\n",
    "2. StandardScaler\n",
    "\n",
    "StandardScaler standardizes features by removing the mean and scaling to unit variance, effectively transforming the data into a standard normal distribution (mean=0, variance=1).\n",
    "\n"
   ]
  },
  {
   "cell_type": "code",
   "execution_count": 30,
   "id": "ff8b0527-3e2d-47f8-828b-b8f1ba24b602",
   "metadata": {},
   "outputs": [],
   "source": [
    "from sklearn.pipeline import Pipeline\n",
    "from sklearn.preprocessing import StandardScaler\n",
    "my_pipeline = Pipeline([\n",
    "    ('imputer',SimpleImputer(strategy = 'median')),\n",
    "    ('std_scalar',StandardScaler()),\n",
    "])\n"
   ]
  },
  {
   "cell_type": "code",
   "execution_count": 31,
   "id": "5470f247-a98a-4c07-b20e-f40b09626127",
   "metadata": {},
   "outputs": [],
   "source": [
    "housing_num_tr = my_pipeline.fit_transform(housing)"
   ]
  },
  {
   "cell_type": "code",
   "execution_count": 32,
   "id": "1b40bd52-38b6-40b7-9ef6-d7d41d943ab6",
   "metadata": {},
   "outputs": [
    {
     "data": {
      "text/plain": [
       "(405, 13)"
      ]
     },
     "execution_count": 32,
     "metadata": {},
     "output_type": "execute_result"
    }
   ],
   "source": [
    "housing_num_tr.shape"
   ]
  },
  {
   "cell_type": "markdown",
   "id": "88bb2a98-5a77-46c7-82b4-9167a7afd07e",
   "metadata": {},
   "source": [
    "# 8. Selecting a Desired Model\n",
    "\n",
    "The model that produces the most accurate predictions (lowest RMSE) on the training and test data will be selected.\n",
    "Here we will import -\n",
    "\n",
    "**1. Linear Regression**-  predicts a target variable by fitting a linear relationship between input features and the target. It works well for linear data but struggles with complex patterns.\n",
    "\n",
    "**2. Decision Tree Regressor**- splits the data into subsets based on feature values to predict the target. It’s interpretable but prone to overfitting.\n",
    "\n",
    "**3. Random Forest Regressor**- is an ensemble method that builds multiple decision trees and averages their predictions, offering better accuracy and handling of non-linear relationships.\n",
    "\n",
    "### 8.1 Model Selection and Training\n",
    "\n",
    "We first explored **Linear Regression** and **Decision Tree Regressor**, but these models did not perform as well as expected. We then chose the **Random Forest Regressor**, which provided more accurate results, closely matching the target values. This ensemble model, by combining multiple decision trees, significantly improved accuracy and generalization.\n"
   ]
  },
  {
   "cell_type": "code",
   "execution_count": 33,
   "id": "137486ce-db1c-49cb-96c4-47947d2de804",
   "metadata": {},
   "outputs": [
    {
     "data": {
      "text/html": [
       "<style>#sk-container-id-2 {\n",
       "  /* Definition of color scheme common for light and dark mode */\n",
       "  --sklearn-color-text: #000;\n",
       "  --sklearn-color-text-muted: #666;\n",
       "  --sklearn-color-line: gray;\n",
       "  /* Definition of color scheme for unfitted estimators */\n",
       "  --sklearn-color-unfitted-level-0: #fff5e6;\n",
       "  --sklearn-color-unfitted-level-1: #f6e4d2;\n",
       "  --sklearn-color-unfitted-level-2: #ffe0b3;\n",
       "  --sklearn-color-unfitted-level-3: chocolate;\n",
       "  /* Definition of color scheme for fitted estimators */\n",
       "  --sklearn-color-fitted-level-0: #f0f8ff;\n",
       "  --sklearn-color-fitted-level-1: #d4ebff;\n",
       "  --sklearn-color-fitted-level-2: #b3dbfd;\n",
       "  --sklearn-color-fitted-level-3: cornflowerblue;\n",
       "\n",
       "  /* Specific color for light theme */\n",
       "  --sklearn-color-text-on-default-background: var(--sg-text-color, var(--theme-code-foreground, var(--jp-content-font-color1, black)));\n",
       "  --sklearn-color-background: var(--sg-background-color, var(--theme-background, var(--jp-layout-color0, white)));\n",
       "  --sklearn-color-border-box: var(--sg-text-color, var(--theme-code-foreground, var(--jp-content-font-color1, black)));\n",
       "  --sklearn-color-icon: #696969;\n",
       "\n",
       "  @media (prefers-color-scheme: dark) {\n",
       "    /* Redefinition of color scheme for dark theme */\n",
       "    --sklearn-color-text-on-default-background: var(--sg-text-color, var(--theme-code-foreground, var(--jp-content-font-color1, white)));\n",
       "    --sklearn-color-background: var(--sg-background-color, var(--theme-background, var(--jp-layout-color0, #111)));\n",
       "    --sklearn-color-border-box: var(--sg-text-color, var(--theme-code-foreground, var(--jp-content-font-color1, white)));\n",
       "    --sklearn-color-icon: #878787;\n",
       "  }\n",
       "}\n",
       "\n",
       "#sk-container-id-2 {\n",
       "  color: var(--sklearn-color-text);\n",
       "}\n",
       "\n",
       "#sk-container-id-2 pre {\n",
       "  padding: 0;\n",
       "}\n",
       "\n",
       "#sk-container-id-2 input.sk-hidden--visually {\n",
       "  border: 0;\n",
       "  clip: rect(1px 1px 1px 1px);\n",
       "  clip: rect(1px, 1px, 1px, 1px);\n",
       "  height: 1px;\n",
       "  margin: -1px;\n",
       "  overflow: hidden;\n",
       "  padding: 0;\n",
       "  position: absolute;\n",
       "  width: 1px;\n",
       "}\n",
       "\n",
       "#sk-container-id-2 div.sk-dashed-wrapped {\n",
       "  border: 1px dashed var(--sklearn-color-line);\n",
       "  margin: 0 0.4em 0.5em 0.4em;\n",
       "  box-sizing: border-box;\n",
       "  padding-bottom: 0.4em;\n",
       "  background-color: var(--sklearn-color-background);\n",
       "}\n",
       "\n",
       "#sk-container-id-2 div.sk-container {\n",
       "  /* jupyter's `normalize.less` sets `[hidden] { display: none; }`\n",
       "     but bootstrap.min.css set `[hidden] { display: none !important; }`\n",
       "     so we also need the `!important` here to be able to override the\n",
       "     default hidden behavior on the sphinx rendered scikit-learn.org.\n",
       "     See: https://github.com/scikit-learn/scikit-learn/issues/21755 */\n",
       "  display: inline-block !important;\n",
       "  position: relative;\n",
       "}\n",
       "\n",
       "#sk-container-id-2 div.sk-text-repr-fallback {\n",
       "  display: none;\n",
       "}\n",
       "\n",
       "div.sk-parallel-item,\n",
       "div.sk-serial,\n",
       "div.sk-item {\n",
       "  /* draw centered vertical line to link estimators */\n",
       "  background-image: linear-gradient(var(--sklearn-color-text-on-default-background), var(--sklearn-color-text-on-default-background));\n",
       "  background-size: 2px 100%;\n",
       "  background-repeat: no-repeat;\n",
       "  background-position: center center;\n",
       "}\n",
       "\n",
       "/* Parallel-specific style estimator block */\n",
       "\n",
       "#sk-container-id-2 div.sk-parallel-item::after {\n",
       "  content: \"\";\n",
       "  width: 100%;\n",
       "  border-bottom: 2px solid var(--sklearn-color-text-on-default-background);\n",
       "  flex-grow: 1;\n",
       "}\n",
       "\n",
       "#sk-container-id-2 div.sk-parallel {\n",
       "  display: flex;\n",
       "  align-items: stretch;\n",
       "  justify-content: center;\n",
       "  background-color: var(--sklearn-color-background);\n",
       "  position: relative;\n",
       "}\n",
       "\n",
       "#sk-container-id-2 div.sk-parallel-item {\n",
       "  display: flex;\n",
       "  flex-direction: column;\n",
       "}\n",
       "\n",
       "#sk-container-id-2 div.sk-parallel-item:first-child::after {\n",
       "  align-self: flex-end;\n",
       "  width: 50%;\n",
       "}\n",
       "\n",
       "#sk-container-id-2 div.sk-parallel-item:last-child::after {\n",
       "  align-self: flex-start;\n",
       "  width: 50%;\n",
       "}\n",
       "\n",
       "#sk-container-id-2 div.sk-parallel-item:only-child::after {\n",
       "  width: 0;\n",
       "}\n",
       "\n",
       "/* Serial-specific style estimator block */\n",
       "\n",
       "#sk-container-id-2 div.sk-serial {\n",
       "  display: flex;\n",
       "  flex-direction: column;\n",
       "  align-items: center;\n",
       "  background-color: var(--sklearn-color-background);\n",
       "  padding-right: 1em;\n",
       "  padding-left: 1em;\n",
       "}\n",
       "\n",
       "\n",
       "/* Toggleable style: style used for estimator/Pipeline/ColumnTransformer box that is\n",
       "clickable and can be expanded/collapsed.\n",
       "- Pipeline and ColumnTransformer use this feature and define the default style\n",
       "- Estimators will overwrite some part of the style using the `sk-estimator` class\n",
       "*/\n",
       "\n",
       "/* Pipeline and ColumnTransformer style (default) */\n",
       "\n",
       "#sk-container-id-2 div.sk-toggleable {\n",
       "  /* Default theme specific background. It is overwritten whether we have a\n",
       "  specific estimator or a Pipeline/ColumnTransformer */\n",
       "  background-color: var(--sklearn-color-background);\n",
       "}\n",
       "\n",
       "/* Toggleable label */\n",
       "#sk-container-id-2 label.sk-toggleable__label {\n",
       "  cursor: pointer;\n",
       "  display: flex;\n",
       "  width: 100%;\n",
       "  margin-bottom: 0;\n",
       "  padding: 0.5em;\n",
       "  box-sizing: border-box;\n",
       "  text-align: center;\n",
       "  align-items: start;\n",
       "  justify-content: space-between;\n",
       "  gap: 0.5em;\n",
       "}\n",
       "\n",
       "#sk-container-id-2 label.sk-toggleable__label .caption {\n",
       "  font-size: 0.6rem;\n",
       "  font-weight: lighter;\n",
       "  color: var(--sklearn-color-text-muted);\n",
       "}\n",
       "\n",
       "#sk-container-id-2 label.sk-toggleable__label-arrow:before {\n",
       "  /* Arrow on the left of the label */\n",
       "  content: \"▸\";\n",
       "  float: left;\n",
       "  margin-right: 0.25em;\n",
       "  color: var(--sklearn-color-icon);\n",
       "}\n",
       "\n",
       "#sk-container-id-2 label.sk-toggleable__label-arrow:hover:before {\n",
       "  color: var(--sklearn-color-text);\n",
       "}\n",
       "\n",
       "/* Toggleable content - dropdown */\n",
       "\n",
       "#sk-container-id-2 div.sk-toggleable__content {\n",
       "  max-height: 0;\n",
       "  max-width: 0;\n",
       "  overflow: hidden;\n",
       "  text-align: left;\n",
       "  /* unfitted */\n",
       "  background-color: var(--sklearn-color-unfitted-level-0);\n",
       "}\n",
       "\n",
       "#sk-container-id-2 div.sk-toggleable__content.fitted {\n",
       "  /* fitted */\n",
       "  background-color: var(--sklearn-color-fitted-level-0);\n",
       "}\n",
       "\n",
       "#sk-container-id-2 div.sk-toggleable__content pre {\n",
       "  margin: 0.2em;\n",
       "  border-radius: 0.25em;\n",
       "  color: var(--sklearn-color-text);\n",
       "  /* unfitted */\n",
       "  background-color: var(--sklearn-color-unfitted-level-0);\n",
       "}\n",
       "\n",
       "#sk-container-id-2 div.sk-toggleable__content.fitted pre {\n",
       "  /* unfitted */\n",
       "  background-color: var(--sklearn-color-fitted-level-0);\n",
       "}\n",
       "\n",
       "#sk-container-id-2 input.sk-toggleable__control:checked~div.sk-toggleable__content {\n",
       "  /* Expand drop-down */\n",
       "  max-height: 200px;\n",
       "  max-width: 100%;\n",
       "  overflow: auto;\n",
       "}\n",
       "\n",
       "#sk-container-id-2 input.sk-toggleable__control:checked~label.sk-toggleable__label-arrow:before {\n",
       "  content: \"▾\";\n",
       "}\n",
       "\n",
       "/* Pipeline/ColumnTransformer-specific style */\n",
       "\n",
       "#sk-container-id-2 div.sk-label input.sk-toggleable__control:checked~label.sk-toggleable__label {\n",
       "  color: var(--sklearn-color-text);\n",
       "  background-color: var(--sklearn-color-unfitted-level-2);\n",
       "}\n",
       "\n",
       "#sk-container-id-2 div.sk-label.fitted input.sk-toggleable__control:checked~label.sk-toggleable__label {\n",
       "  background-color: var(--sklearn-color-fitted-level-2);\n",
       "}\n",
       "\n",
       "/* Estimator-specific style */\n",
       "\n",
       "/* Colorize estimator box */\n",
       "#sk-container-id-2 div.sk-estimator input.sk-toggleable__control:checked~label.sk-toggleable__label {\n",
       "  /* unfitted */\n",
       "  background-color: var(--sklearn-color-unfitted-level-2);\n",
       "}\n",
       "\n",
       "#sk-container-id-2 div.sk-estimator.fitted input.sk-toggleable__control:checked~label.sk-toggleable__label {\n",
       "  /* fitted */\n",
       "  background-color: var(--sklearn-color-fitted-level-2);\n",
       "}\n",
       "\n",
       "#sk-container-id-2 div.sk-label label.sk-toggleable__label,\n",
       "#sk-container-id-2 div.sk-label label {\n",
       "  /* The background is the default theme color */\n",
       "  color: var(--sklearn-color-text-on-default-background);\n",
       "}\n",
       "\n",
       "/* On hover, darken the color of the background */\n",
       "#sk-container-id-2 div.sk-label:hover label.sk-toggleable__label {\n",
       "  color: var(--sklearn-color-text);\n",
       "  background-color: var(--sklearn-color-unfitted-level-2);\n",
       "}\n",
       "\n",
       "/* Label box, darken color on hover, fitted */\n",
       "#sk-container-id-2 div.sk-label.fitted:hover label.sk-toggleable__label.fitted {\n",
       "  color: var(--sklearn-color-text);\n",
       "  background-color: var(--sklearn-color-fitted-level-2);\n",
       "}\n",
       "\n",
       "/* Estimator label */\n",
       "\n",
       "#sk-container-id-2 div.sk-label label {\n",
       "  font-family: monospace;\n",
       "  font-weight: bold;\n",
       "  display: inline-block;\n",
       "  line-height: 1.2em;\n",
       "}\n",
       "\n",
       "#sk-container-id-2 div.sk-label-container {\n",
       "  text-align: center;\n",
       "}\n",
       "\n",
       "/* Estimator-specific */\n",
       "#sk-container-id-2 div.sk-estimator {\n",
       "  font-family: monospace;\n",
       "  border: 1px dotted var(--sklearn-color-border-box);\n",
       "  border-radius: 0.25em;\n",
       "  box-sizing: border-box;\n",
       "  margin-bottom: 0.5em;\n",
       "  /* unfitted */\n",
       "  background-color: var(--sklearn-color-unfitted-level-0);\n",
       "}\n",
       "\n",
       "#sk-container-id-2 div.sk-estimator.fitted {\n",
       "  /* fitted */\n",
       "  background-color: var(--sklearn-color-fitted-level-0);\n",
       "}\n",
       "\n",
       "/* on hover */\n",
       "#sk-container-id-2 div.sk-estimator:hover {\n",
       "  /* unfitted */\n",
       "  background-color: var(--sklearn-color-unfitted-level-2);\n",
       "}\n",
       "\n",
       "#sk-container-id-2 div.sk-estimator.fitted:hover {\n",
       "  /* fitted */\n",
       "  background-color: var(--sklearn-color-fitted-level-2);\n",
       "}\n",
       "\n",
       "/* Specification for estimator info (e.g. \"i\" and \"?\") */\n",
       "\n",
       "/* Common style for \"i\" and \"?\" */\n",
       "\n",
       ".sk-estimator-doc-link,\n",
       "a:link.sk-estimator-doc-link,\n",
       "a:visited.sk-estimator-doc-link {\n",
       "  float: right;\n",
       "  font-size: smaller;\n",
       "  line-height: 1em;\n",
       "  font-family: monospace;\n",
       "  background-color: var(--sklearn-color-background);\n",
       "  border-radius: 1em;\n",
       "  height: 1em;\n",
       "  width: 1em;\n",
       "  text-decoration: none !important;\n",
       "  margin-left: 0.5em;\n",
       "  text-align: center;\n",
       "  /* unfitted */\n",
       "  border: var(--sklearn-color-unfitted-level-1) 1pt solid;\n",
       "  color: var(--sklearn-color-unfitted-level-1);\n",
       "}\n",
       "\n",
       ".sk-estimator-doc-link.fitted,\n",
       "a:link.sk-estimator-doc-link.fitted,\n",
       "a:visited.sk-estimator-doc-link.fitted {\n",
       "  /* fitted */\n",
       "  border: var(--sklearn-color-fitted-level-1) 1pt solid;\n",
       "  color: var(--sklearn-color-fitted-level-1);\n",
       "}\n",
       "\n",
       "/* On hover */\n",
       "div.sk-estimator:hover .sk-estimator-doc-link:hover,\n",
       ".sk-estimator-doc-link:hover,\n",
       "div.sk-label-container:hover .sk-estimator-doc-link:hover,\n",
       ".sk-estimator-doc-link:hover {\n",
       "  /* unfitted */\n",
       "  background-color: var(--sklearn-color-unfitted-level-3);\n",
       "  color: var(--sklearn-color-background);\n",
       "  text-decoration: none;\n",
       "}\n",
       "\n",
       "div.sk-estimator.fitted:hover .sk-estimator-doc-link.fitted:hover,\n",
       ".sk-estimator-doc-link.fitted:hover,\n",
       "div.sk-label-container:hover .sk-estimator-doc-link.fitted:hover,\n",
       ".sk-estimator-doc-link.fitted:hover {\n",
       "  /* fitted */\n",
       "  background-color: var(--sklearn-color-fitted-level-3);\n",
       "  color: var(--sklearn-color-background);\n",
       "  text-decoration: none;\n",
       "}\n",
       "\n",
       "/* Span, style for the box shown on hovering the info icon */\n",
       ".sk-estimator-doc-link span {\n",
       "  display: none;\n",
       "  z-index: 9999;\n",
       "  position: relative;\n",
       "  font-weight: normal;\n",
       "  right: .2ex;\n",
       "  padding: .5ex;\n",
       "  margin: .5ex;\n",
       "  width: min-content;\n",
       "  min-width: 20ex;\n",
       "  max-width: 50ex;\n",
       "  color: var(--sklearn-color-text);\n",
       "  box-shadow: 2pt 2pt 4pt #999;\n",
       "  /* unfitted */\n",
       "  background: var(--sklearn-color-unfitted-level-0);\n",
       "  border: .5pt solid var(--sklearn-color-unfitted-level-3);\n",
       "}\n",
       "\n",
       ".sk-estimator-doc-link.fitted span {\n",
       "  /* fitted */\n",
       "  background: var(--sklearn-color-fitted-level-0);\n",
       "  border: var(--sklearn-color-fitted-level-3);\n",
       "}\n",
       "\n",
       ".sk-estimator-doc-link:hover span {\n",
       "  display: block;\n",
       "}\n",
       "\n",
       "/* \"?\"-specific style due to the `<a>` HTML tag */\n",
       "\n",
       "#sk-container-id-2 a.estimator_doc_link {\n",
       "  float: right;\n",
       "  font-size: 1rem;\n",
       "  line-height: 1em;\n",
       "  font-family: monospace;\n",
       "  background-color: var(--sklearn-color-background);\n",
       "  border-radius: 1rem;\n",
       "  height: 1rem;\n",
       "  width: 1rem;\n",
       "  text-decoration: none;\n",
       "  /* unfitted */\n",
       "  color: var(--sklearn-color-unfitted-level-1);\n",
       "  border: var(--sklearn-color-unfitted-level-1) 1pt solid;\n",
       "}\n",
       "\n",
       "#sk-container-id-2 a.estimator_doc_link.fitted {\n",
       "  /* fitted */\n",
       "  border: var(--sklearn-color-fitted-level-1) 1pt solid;\n",
       "  color: var(--sklearn-color-fitted-level-1);\n",
       "}\n",
       "\n",
       "/* On hover */\n",
       "#sk-container-id-2 a.estimator_doc_link:hover {\n",
       "  /* unfitted */\n",
       "  background-color: var(--sklearn-color-unfitted-level-3);\n",
       "  color: var(--sklearn-color-background);\n",
       "  text-decoration: none;\n",
       "}\n",
       "\n",
       "#sk-container-id-2 a.estimator_doc_link.fitted:hover {\n",
       "  /* fitted */\n",
       "  background-color: var(--sklearn-color-fitted-level-3);\n",
       "}\n",
       "</style><div id=\"sk-container-id-2\" class=\"sk-top-container\"><div class=\"sk-text-repr-fallback\"><pre>RandomForestRegressor()</pre><b>In a Jupyter environment, please rerun this cell to show the HTML representation or trust the notebook. <br />On GitHub, the HTML representation is unable to render, please try loading this page with nbviewer.org.</b></div><div class=\"sk-container\" hidden><div class=\"sk-item\"><div class=\"sk-estimator fitted sk-toggleable\"><input class=\"sk-toggleable__control sk-hidden--visually\" id=\"sk-estimator-id-2\" type=\"checkbox\" checked><label for=\"sk-estimator-id-2\" class=\"sk-toggleable__label fitted sk-toggleable__label-arrow\"><div><div>RandomForestRegressor</div></div><div><a class=\"sk-estimator-doc-link fitted\" rel=\"noreferrer\" target=\"_blank\" href=\"https://scikit-learn.org/1.6/modules/generated/sklearn.ensemble.RandomForestRegressor.html\">?<span>Documentation for RandomForestRegressor</span></a><span class=\"sk-estimator-doc-link fitted\">i<span>Fitted</span></span></div></label><div class=\"sk-toggleable__content fitted\"><pre>RandomForestRegressor()</pre></div> </div></div></div></div>"
      ],
      "text/plain": [
       "RandomForestRegressor()"
      ]
     },
     "execution_count": 33,
     "metadata": {},
     "output_type": "execute_result"
    }
   ],
   "source": [
    "from sklearn.linear_model import LinearRegression\n",
    "from sklearn.tree import DecisionTreeRegressor\n",
    "from sklearn.ensemble import RandomForestRegressor\n",
    "model = RandomForestRegressor()\n",
    "model.fit(housing_num_tr,housing_labels)"
   ]
  },
  {
   "cell_type": "markdown",
   "id": "a8ecd737-1b20-4c30-81c5-55fa49206e92",
   "metadata": {},
   "source": [
    "### 8.2. Making Predictions on a Subset of Data\n",
    "1. Extracts a small subset of data (some_data) and the corresponding labels (some_labels) for testing.\n",
    "2. Preprocesses the subset using the same pipeline (my_pipeline) to ensure consistency with the training data.\n",
    "3. The predict() method generates predictions for the subset based on the trained model."
   ]
  },
  {
   "cell_type": "code",
   "execution_count": 34,
   "id": "5d4faa1e-7b0c-4f05-adaf-d4e1d78aa20b",
   "metadata": {},
   "outputs": [],
   "source": [
    "some_data=housing.iloc[:5]"
   ]
  },
  {
   "cell_type": "code",
   "execution_count": 35,
   "id": "9a22c84c-d7b4-4789-b44f-175571d590f1",
   "metadata": {},
   "outputs": [],
   "source": [
    "some_labels = housing_labels.iloc[:5]"
   ]
  },
  {
   "cell_type": "code",
   "execution_count": 36,
   "id": "311dbea9-8e0f-4880-ac5f-faf9492252b1",
   "metadata": {},
   "outputs": [],
   "source": [
    "prepared_data = my_pipeline.transform(some_data)"
   ]
  },
  {
   "cell_type": "code",
   "execution_count": 37,
   "id": "74339e8b-3cc7-4ac1-9e70-774ebb669341",
   "metadata": {},
   "outputs": [
    {
     "data": {
      "text/plain": [
       "array([25.9003, 35.4341, 34.013 , 34.778 , 26.9598])"
      ]
     },
     "execution_count": 37,
     "metadata": {},
     "output_type": "execute_result"
    }
   ],
   "source": [
    "model.predict(prepared_data)"
   ]
  },
  {
   "cell_type": "code",
   "execution_count": 38,
   "id": "63937d5c-faaa-4155-bdec-0aacc8d75ce6",
   "metadata": {},
   "outputs": [
    {
     "data": {
      "text/plain": [
       "[24.03, 34.67, 33.42, 36.17, 28.55]"
      ]
     },
     "execution_count": 38,
     "metadata": {},
     "output_type": "execute_result"
    }
   ],
   "source": [
    "list(some_labels)"
   ]
  },
  {
   "cell_type": "markdown",
   "id": "dcf5a86a-5365-4d15-bd2d-e2d4688cabab",
   "metadata": {},
   "source": [
    "# 9. Evaluation Metrics\n",
    "**Mean Squared Error (MSE)**- is the average squared difference between predicted and actual values, with lower values indicating better model performance.\n",
    "\n",
    "**Root Mean Squared Error (RMSE)**- is the square root of MSE, providing an interpretable error value in the same unit as the target variable, where lower values indicate higher accuracy.\n",
    "\n",
    "### 9.1 Evaluating the model\n",
    "1. Generate Predictions: The model predicts housing_predictions for all data in housing_num_tr.\n",
    "2. Calculate MSE: Compares predicted values (housing_predictions) to actual labels (housing_labels) using mean_squared_error.\n",
    "3. Calculate RMSE: Takes the square root of MSE to make the error interpretable.\n",
    "The resulting rmse indicates how far, on average, the model's predictions deviate from actual values."
   ]
  },
  {
   "cell_type": "code",
   "execution_count": 39,
   "id": "2afe51ad-c6eb-4015-a1a9-bab5cc0ae304",
   "metadata": {},
   "outputs": [],
   "source": [
    "from sklearn.metrics import mean_squared_error\n",
    "housing_predictions = model.predict(housing_num_tr)\n",
    "mse = mean_squared_error(housing_labels, housing_predictions)\n",
    "rmse = np.sqrt(mse)"
   ]
  },
  {
   "cell_type": "code",
   "execution_count": 40,
   "id": "a2de6a58-3fae-407d-b870-a20ec3a7b369",
   "metadata": {},
   "outputs": [
    {
     "data": {
      "text/plain": [
       "np.float64(1.3795778564921426)"
      ]
     },
     "execution_count": 40,
     "metadata": {},
     "output_type": "execute_result"
    }
   ],
   "source": [
    "rmse"
   ]
  },
  {
   "cell_type": "markdown",
   "id": "b84d83d1-eb89-40a4-ac1e-267dfd3a3c77",
   "metadata": {},
   "source": [
    "# 10. Using better evaluating technique -Cross Validation\n",
    " Why We Use Cross-Validation\n",
    "   \n",
    "Cross-validation is a technique used to assess the performance and generalization ability of a model. It involves dividing the dataset into several subsets (folds), training the model on some of them, and testing it on the remaining ones. This process is repeated for all folds, and the results are averaged to obtain a more reliable estimate of the model's performance.\n",
    "\n",
    "What Happens After Using Cross-Validation?\n",
    "\n",
    "After performing cross-validation, we get a better estimate of how the model will perform on unseen data, helping us avoid overfitting and ensuring that the model generalizes well. In this code, we're using 10-fold cross-validation to evaluate the model’s performance and calculate the root mean squared error (RMSE) for each fold. By averaging these scores, we get a more robust evaluation of the model's performance."
   ]
  },
  {
   "cell_type": "code",
   "execution_count": 41,
   "id": "3564b131-7f49-4420-91af-3f14d2118b5c",
   "metadata": {},
   "outputs": [],
   "source": [
    "from sklearn.model_selection import cross_val_score\n",
    "scores =cross_val_score(model,housing_num_tr,housing_labels,scoring='neg_mean_squared_error',cv=10)\n",
    "rmse_scores = np.sqrt(-scores)"
   ]
  },
  {
   "cell_type": "code",
   "execution_count": 42,
   "id": "e21ab43d-277f-48a2-beaf-93c080cfeb79",
   "metadata": {},
   "outputs": [
    {
     "data": {
      "text/plain": [
       "array([3.35925495, 2.17580843, 1.82623452, 4.39186046, 3.49072168,\n",
       "       5.98398154, 2.90416855, 9.03239184, 4.56833116, 3.66841477])"
      ]
     },
     "execution_count": 42,
     "metadata": {},
     "output_type": "execute_result"
    }
   ],
   "source": [
    "rmse_scores"
   ]
  },
  {
   "cell_type": "code",
   "execution_count": 43,
   "id": "b2294524-b41d-4752-8c39-c634492b628e",
   "metadata": {},
   "outputs": [],
   "source": [
    "def print_scores(scores):\n",
    "    print('Scores:',scores)\n",
    "    print('Mean:',scores.mean())\n",
    "    print('Standard deviation:',scores.std())"
   ]
  },
  {
   "cell_type": "code",
   "execution_count": 44,
   "id": "8e252442-9b54-4a16-a729-c9d5b7cb911e",
   "metadata": {},
   "outputs": [
    {
     "name": "stdout",
     "output_type": "stream",
     "text": [
      "Scores: [3.35925495 2.17580843 1.82623452 4.39186046 3.49072168 5.98398154\n",
      " 2.90416855 9.03239184 4.56833116 3.66841477]\n",
      "Mean: 4.140116790078912\n",
      "Standard deviation: 1.9893472145217839\n"
     ]
    }
   ],
   "source": [
    "print_scores(rmse_scores)"
   ]
  },
  {
   "cell_type": "markdown",
   "id": "28fba2e1-cd91-4f1a-9cdd-c68c4ee6d900",
   "metadata": {},
   "source": [
    "# 11. Saving the model\n",
    "\n",
    " What is Joblib?\n",
    " \n",
    "Joblib is a library used for serializing (saving) and deserializing (loading) Python objects, such as machine learning models. It allows you to save the trained model so that it can be reused later without needing to retrain it, which is time-consuming.\n",
    "\n",
    "Why We Use it?\n",
    "\n",
    "After training the model, we used joblib.dump() to save the trained RandomForest model to a file (realestate.joblib). This way, we can load the model later with joblib.load() and make predictions without retraining, which speeds up the process and ensures reproducibility"
   ]
  },
  {
   "cell_type": "code",
   "execution_count": 45,
   "id": "944a6147-44c3-40e8-a9b4-a1c2ba1f4f2d",
   "metadata": {},
   "outputs": [
    {
     "data": {
      "text/plain": [
       "['realestate.joblib']"
      ]
     },
     "execution_count": 45,
     "metadata": {},
     "output_type": "execute_result"
    }
   ],
   "source": [
    "from joblib import dump, load\n",
    "dump(model, 'realestate.joblib') "
   ]
  },
  {
   "cell_type": "markdown",
   "id": "e81f5cba-39b9-4a24-99c3-2e3c5817463b",
   "metadata": {},
   "source": [
    "# 12. Testing the model on test data\n",
    " 1. Prepare the Test Data:\n",
    "First, we separate the target variable (Median_House_Value) from the features (X_test) in the test set, and then we preprocess the features using the same pipeline (my_pipeline.transform(X_test)).\n",
    "\n",
    "2. Generate Predictions:\n",
    "The model makes predictions on the test data using the model.predict() function.\n",
    "\n",
    "3. Evaluate Performance:\n",
    "The predictions are compared to the actual target values (Y_test) using Mean Squared Error (MSE) and Root Mean Squared Error (RMSE) to assess how well the model performs on unseen data. A lower RMSE indicates better performance.\n"
   ]
  },
  {
   "cell_type": "code",
   "execution_count": 46,
   "id": "ff5c75bd-102a-4a32-a354-85b06188ab0f",
   "metadata": {},
   "outputs": [],
   "source": [
    "X_test = strat_test_set.drop(\"Median_House_Value\", axis=1)\n",
    "Y_test = strat_test_set[\"Median_House_Value\"].copy()\n",
    "X_test_prepared = my_pipeline.transform(X_test)\n",
    "final_predictions = model.predict(X_test_prepared)\n",
    "final_mse = mean_squared_error(Y_test, final_predictions)\n",
    "final_rmse = np.sqrt(final_mse)\n",
    "# print(final_predictions, list(Y_test))"
   ]
  },
  {
   "cell_type": "code",
   "execution_count": 47,
   "id": "6c055603-de72-489e-864c-4ef3a6025bfd",
   "metadata": {},
   "outputs": [
    {
     "data": {
      "text/plain": [
       "np.float64(3.4009204646727196)"
      ]
     },
     "execution_count": 47,
     "metadata": {},
     "output_type": "execute_result"
    }
   ],
   "source": [
    "final_rmse"
   ]
  },
  {
   "cell_type": "code",
   "execution_count": 48,
   "id": "59459b8b-aa76-49ad-b52f-e89a4b5ac2e9",
   "metadata": {},
   "outputs": [
    {
     "data": {
      "text/plain": [
       "array([-0.40814534,  0.2641564 , -1.2583837 , -0.62695626, -2.08228821,\n",
       "        0.46605811, -0.13978353,  0.18240003, -0.99208138, -0.6649479 ,\n",
       "       -1.49024193,  0.44242382, -1.07330485])"
      ]
     },
     "execution_count": 48,
     "metadata": {},
     "output_type": "execute_result"
    }
   ],
   "source": [
    "prepared_data[0]"
   ]
  },
  {
   "cell_type": "markdown",
   "id": "ddd1bc85-63df-4dd0-ac75-3673dff59632",
   "metadata": {},
   "source": [
    "# 13. Using The model\n",
    "\n",
    "When we load the model using joblib.load(), the previously trained RandomForest model is restored. You can then input new data (features) into the model, which will generate predictions based on the learned patterns from the training data.\n",
    "\n",
    "In this, the model predicts values for a given set of features using the model.predict() method. This enables the model to make predictions for new, unseen data without the need to retrain it.\n",
    "\n"
   ]
  },
  {
   "cell_type": "code",
   "execution_count": 49,
   "id": "bbbc0d73-a131-44da-9fe5-1d331c9932d3",
   "metadata": {},
   "outputs": [
    {
     "data": {
      "text/plain": [
       "array([25.9003])"
      ]
     },
     "execution_count": 49,
     "metadata": {},
     "output_type": "execute_result"
    }
   ],
   "source": [
    "from joblib import dump,load \n",
    "model = load('realestate.joblib')\n",
    "features= np.array([[-0.40814534,  0.2641564 , -1.2583837 , -0.62695626, -2.08228821,\n",
    "        0.46605811, -0.13978353,  0.18240003, -0.99208138, -0.6649479 ,\n",
    "       -1.49024193,  0.44242382, -1.07330485]])\n",
    "model.predict(features)"
   ]
  },
  {
   "cell_type": "markdown",
   "id": "af3990f4-4c77-4b17-b320-261264013f29",
   "metadata": {},
   "source": [
    "### 14. Conclusion \n",
    "\n",
    "Firstly,We started by preprocessing the data, handling missing values, scaling features, and splitting it into training and test sets. After training multiple models, Random Forest Regressor was chosen due to its superior accuracy. Cross-validation ensured better generalization and avoided overfitting, while model evaluation with RMSE confirmed strong performance.By saving the model with Joblib, you ensured efficiency and reproducibility for future predictions\n",
    "\n",
    "**How Predictions Accuracy Was Improved with ML:**\n",
    "\n",
    "By using a Random Forest Regressor, which combines multiple decision trees, you improved the model's accuracy and generalization. Cross-validation ensured that your model would not overfit and would perform reliably on unseen data. Additionally, feature scaling, imputation, and model evaluation techniques further contributed to improving prediction accuracy.\n",
    "\n",
    "In conclusion, you successfully applied machine learning techniques to improve the accuracy of house value predictions, ensuring the model was both robust and efficient for future use.\n"
   ]
  }
 ],
 "metadata": {
  "kernelspec": {
   "display_name": "Python 3 (ipykernel)",
   "language": "python",
   "name": "python3"
  },
  "language_info": {
   "codemirror_mode": {
    "name": "ipython",
    "version": 3
   },
   "file_extension": ".py",
   "mimetype": "text/x-python",
   "name": "python",
   "nbconvert_exporter": "python",
   "pygments_lexer": "ipython3",
   "version": "3.13.1"
  }
 },
 "nbformat": 4,
 "nbformat_minor": 5
}
